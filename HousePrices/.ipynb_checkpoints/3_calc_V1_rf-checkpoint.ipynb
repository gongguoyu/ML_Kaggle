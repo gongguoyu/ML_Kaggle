{
 "cells": [
  {
   "cell_type": "code",
   "execution_count": 1,
   "metadata": {
    "collapsed": false
   },
   "outputs": [
    {
     "name": "stderr",
     "output_type": "stream",
     "text": [
      "D:\\Anaconda2\\envs\\python36\\lib\\site-packages\\sklearn\\cross_validation.py:41: DeprecationWarning: This module was deprecated in version 0.18 in favor of the model_selection module into which all the refactored classes and functions are moved. Also note that the interface of the new CV iterators are different from that of this module. This module will be removed in 0.20.\n",
      "  \"This module will be removed in 0.20.\", DeprecationWarning)\n",
      "D:\\Anaconda2\\envs\\python36\\lib\\site-packages\\sklearn\\grid_search.py:42: DeprecationWarning: This module was deprecated in version 0.18 in favor of the model_selection module into which all the refactored classes and functions are moved. This module will be removed in 0.20.\n",
      "  DeprecationWarning)\n"
     ]
    }
   ],
   "source": [
    "import pickle\n",
    "\n",
    "import numpy as np\n",
    "\n",
    "from sklearn.utils import shuffle\n",
    "from sklearn.ensemble import RandomForestClassifier\n",
    "\n",
    "from sklearn import cross_validation, metrics\n",
    "from sklearn.metrics import classification_report\n",
    "\n",
    "from sklearn.grid_search import GridSearchCV "
   ]
  },
  {
   "cell_type": "code",
   "execution_count": 2,
   "metadata": {
    "collapsed": false
   },
   "outputs": [
    {
     "data": {
      "text/html": [
       "<div>\n",
       "<style scoped>\n",
       "    .dataframe tbody tr th:only-of-type {\n",
       "        vertical-align: middle;\n",
       "    }\n",
       "\n",
       "    .dataframe tbody tr th {\n",
       "        vertical-align: top;\n",
       "    }\n",
       "\n",
       "    .dataframe thead th {\n",
       "        text-align: right;\n",
       "    }\n",
       "</style>\n",
       "<table border=\"1\" class=\"dataframe\">\n",
       "  <thead>\n",
       "    <tr style=\"text-align: right;\">\n",
       "      <th></th>\n",
       "      <th>SalePrice</th>\n",
       "      <th>MSSubClass</th>\n",
       "      <th>LotArea</th>\n",
       "      <th>OverallQual</th>\n",
       "      <th>OverallCond</th>\n",
       "      <th>YearBuilt</th>\n",
       "      <th>YearRemodAdd</th>\n",
       "      <th>MasVnrArea</th>\n",
       "      <th>BsmtFinSF1</th>\n",
       "      <th>BsmtFinSF2</th>\n",
       "      <th>...</th>\n",
       "      <th>SaleType_ConLw</th>\n",
       "      <th>SaleType_New</th>\n",
       "      <th>SaleType_Oth</th>\n",
       "      <th>SaleType_WD</th>\n",
       "      <th>SaleCondition_Abnorml</th>\n",
       "      <th>SaleCondition_AdjLand</th>\n",
       "      <th>SaleCondition_Alloca</th>\n",
       "      <th>SaleCondition_Family</th>\n",
       "      <th>SaleCondition_Normal</th>\n",
       "      <th>SaleCondition_Partial</th>\n",
       "    </tr>\n",
       "  </thead>\n",
       "  <tbody>\n",
       "    <tr>\n",
       "      <th>0</th>\n",
       "      <td>208500</td>\n",
       "      <td>60</td>\n",
       "      <td>8450</td>\n",
       "      <td>7</td>\n",
       "      <td>5</td>\n",
       "      <td>2003</td>\n",
       "      <td>2003</td>\n",
       "      <td>196.0</td>\n",
       "      <td>706</td>\n",
       "      <td>0</td>\n",
       "      <td>...</td>\n",
       "      <td>0</td>\n",
       "      <td>0</td>\n",
       "      <td>0</td>\n",
       "      <td>1</td>\n",
       "      <td>0</td>\n",
       "      <td>0</td>\n",
       "      <td>0</td>\n",
       "      <td>0</td>\n",
       "      <td>1</td>\n",
       "      <td>0</td>\n",
       "    </tr>\n",
       "    <tr>\n",
       "      <th>1</th>\n",
       "      <td>181500</td>\n",
       "      <td>20</td>\n",
       "      <td>9600</td>\n",
       "      <td>6</td>\n",
       "      <td>8</td>\n",
       "      <td>1976</td>\n",
       "      <td>1976</td>\n",
       "      <td>0.0</td>\n",
       "      <td>978</td>\n",
       "      <td>0</td>\n",
       "      <td>...</td>\n",
       "      <td>0</td>\n",
       "      <td>0</td>\n",
       "      <td>0</td>\n",
       "      <td>1</td>\n",
       "      <td>0</td>\n",
       "      <td>0</td>\n",
       "      <td>0</td>\n",
       "      <td>0</td>\n",
       "      <td>1</td>\n",
       "      <td>0</td>\n",
       "    </tr>\n",
       "    <tr>\n",
       "      <th>2</th>\n",
       "      <td>223500</td>\n",
       "      <td>60</td>\n",
       "      <td>11250</td>\n",
       "      <td>7</td>\n",
       "      <td>5</td>\n",
       "      <td>2001</td>\n",
       "      <td>2002</td>\n",
       "      <td>162.0</td>\n",
       "      <td>486</td>\n",
       "      <td>0</td>\n",
       "      <td>...</td>\n",
       "      <td>0</td>\n",
       "      <td>0</td>\n",
       "      <td>0</td>\n",
       "      <td>1</td>\n",
       "      <td>0</td>\n",
       "      <td>0</td>\n",
       "      <td>0</td>\n",
       "      <td>0</td>\n",
       "      <td>1</td>\n",
       "      <td>0</td>\n",
       "    </tr>\n",
       "    <tr>\n",
       "      <th>3</th>\n",
       "      <td>140000</td>\n",
       "      <td>70</td>\n",
       "      <td>9550</td>\n",
       "      <td>7</td>\n",
       "      <td>5</td>\n",
       "      <td>1915</td>\n",
       "      <td>1970</td>\n",
       "      <td>0.0</td>\n",
       "      <td>216</td>\n",
       "      <td>0</td>\n",
       "      <td>...</td>\n",
       "      <td>0</td>\n",
       "      <td>0</td>\n",
       "      <td>0</td>\n",
       "      <td>1</td>\n",
       "      <td>1</td>\n",
       "      <td>0</td>\n",
       "      <td>0</td>\n",
       "      <td>0</td>\n",
       "      <td>0</td>\n",
       "      <td>0</td>\n",
       "    </tr>\n",
       "    <tr>\n",
       "      <th>4</th>\n",
       "      <td>250000</td>\n",
       "      <td>60</td>\n",
       "      <td>14260</td>\n",
       "      <td>8</td>\n",
       "      <td>5</td>\n",
       "      <td>2000</td>\n",
       "      <td>2000</td>\n",
       "      <td>350.0</td>\n",
       "      <td>655</td>\n",
       "      <td>0</td>\n",
       "      <td>...</td>\n",
       "      <td>0</td>\n",
       "      <td>0</td>\n",
       "      <td>0</td>\n",
       "      <td>1</td>\n",
       "      <td>0</td>\n",
       "      <td>0</td>\n",
       "      <td>0</td>\n",
       "      <td>0</td>\n",
       "      <td>1</td>\n",
       "      <td>0</td>\n",
       "    </tr>\n",
       "  </tbody>\n",
       "</table>\n",
       "<p>5 rows × 259 columns</p>\n",
       "</div>"
      ],
      "text/plain": [
       "   SalePrice  MSSubClass  LotArea  OverallQual  OverallCond  YearBuilt  \\\n",
       "0     208500          60     8450            7            5       2003   \n",
       "1     181500          20     9600            6            8       1976   \n",
       "2     223500          60    11250            7            5       2001   \n",
       "3     140000          70     9550            7            5       1915   \n",
       "4     250000          60    14260            8            5       2000   \n",
       "\n",
       "   YearRemodAdd  MasVnrArea  BsmtFinSF1  BsmtFinSF2          ...            \\\n",
       "0          2003       196.0         706           0          ...             \n",
       "1          1976         0.0         978           0          ...             \n",
       "2          2002       162.0         486           0          ...             \n",
       "3          1970         0.0         216           0          ...             \n",
       "4          2000       350.0         655           0          ...             \n",
       "\n",
       "   SaleType_ConLw  SaleType_New  SaleType_Oth  SaleType_WD  \\\n",
       "0               0             0             0            1   \n",
       "1               0             0             0            1   \n",
       "2               0             0             0            1   \n",
       "3               0             0             0            1   \n",
       "4               0             0             0            1   \n",
       "\n",
       "   SaleCondition_Abnorml  SaleCondition_AdjLand  SaleCondition_Alloca  \\\n",
       "0                      0                      0                     0   \n",
       "1                      0                      0                     0   \n",
       "2                      0                      0                     0   \n",
       "3                      1                      0                     0   \n",
       "4                      0                      0                     0   \n",
       "\n",
       "   SaleCondition_Family  SaleCondition_Normal  SaleCondition_Partial  \n",
       "0                     0                     1                      0  \n",
       "1                     0                     1                      0  \n",
       "2                     0                     1                      0  \n",
       "3                     0                     0                      0  \n",
       "4                     0                     1                      0  \n",
       "\n",
       "[5 rows x 259 columns]"
      ]
     },
     "execution_count": 2,
     "metadata": {},
     "output_type": "execute_result"
    }
   ],
   "source": [
    "data_train,data_test = pickle.load(open(\"./datas_clean_V1.ggy\",\"rb\"))\n",
    "\n",
    "data_train.head()"
   ]
  },
  {
   "cell_type": "code",
   "execution_count": 3,
   "metadata": {
    "collapsed": false,
    "scrolled": true
   },
   "outputs": [
    {
     "name": "stdout",
     "output_type": "stream",
     "text": [
      "++++++++++++++++++++\n",
      "['SalePrice', 'MSSubClass', 'LotArea', 'OverallQual', 'OverallCond', 'YearBuilt', 'YearRemodAdd', 'MasVnrArea', 'BsmtFinSF1', 'BsmtFinSF2', 'BsmtUnfSF', 'TotalBsmtSF', '1stFlrSF', '2ndFlrSF', 'GrLivArea', 'BsmtFullBath', 'BsmtHalfBath', 'FullBath', 'HalfBath', 'BedroomAbvGr', 'KitchenAbvGr', 'TotRmsAbvGrd', 'Fireplaces', 'GarageYrBlt', 'GarageCars', 'GarageArea', 'WoodDeckSF', 'OpenPorchSF', 'EnclosedPorch', 'MoSold', 'YrSold', 'MSZoning_C (all)', 'MSZoning_FV', 'MSZoning_RH', 'MSZoning_RL', 'MSZoning_RM', 'LotShape_IR1', 'LotShape_IR2', 'LotShape_IR3', 'LotShape_Reg', 'LandContour_Bnk', 'LandContour_HLS', 'LandContour_Low', 'LandContour_Lvl', 'LotConfig_Corner', 'LotConfig_CulDSac', 'LotConfig_FR2', 'LotConfig_FR3', 'LotConfig_Inside', 'LandSlope_Gtl', 'LandSlope_Mod', 'LandSlope_Sev', 'Neighborhood_Blmngtn', 'Neighborhood_Blueste', 'Neighborhood_BrDale', 'Neighborhood_BrkSide', 'Neighborhood_ClearCr', 'Neighborhood_CollgCr', 'Neighborhood_Crawfor', 'Neighborhood_Edwards', 'Neighborhood_Gilbert', 'Neighborhood_IDOTRR', 'Neighborhood_MeadowV', 'Neighborhood_Mitchel', 'Neighborhood_NAmes', 'Neighborhood_NPkVill', 'Neighborhood_NWAmes', 'Neighborhood_NoRidge', 'Neighborhood_NridgHt', 'Neighborhood_OldTown', 'Neighborhood_SWISU', 'Neighborhood_Sawyer', 'Neighborhood_SawyerW', 'Neighborhood_Somerst', 'Neighborhood_StoneBr', 'Neighborhood_Timber', 'Neighborhood_Veenker', 'Condition1_Artery', 'Condition1_Feedr', 'Condition1_Norm', 'Condition1_PosA', 'Condition1_PosN', 'Condition1_RRAe', 'Condition1_RRAn', 'Condition1_RRNe', 'Condition1_RRNn', 'BldgType_1Fam', 'BldgType_2fmCon', 'BldgType_Duplex', 'BldgType_Twnhs', 'BldgType_TwnhsE', 'HouseStyle_1.5Fin', 'HouseStyle_1.5Unf', 'HouseStyle_1Story', 'HouseStyle_2.5Fin', 'HouseStyle_2.5Unf', 'HouseStyle_2Story', 'HouseStyle_SFoyer', 'HouseStyle_SLvl', 'RoofStyle_Flat', 'RoofStyle_Gable', 'RoofStyle_Gambrel', 'RoofStyle_Hip', 'RoofStyle_Mansard', 'RoofStyle_Shed', 'Exterior1st_AsbShng', 'Exterior1st_AsphShn', 'Exterior1st_BrkComm', 'Exterior1st_BrkFace', 'Exterior1st_CBlock', 'Exterior1st_CemntBd', 'Exterior1st_HdBoard', 'Exterior1st_ImStucc', 'Exterior1st_MetalSd', 'Exterior1st_Plywood', 'Exterior1st_Stone', 'Exterior1st_Stucco', 'Exterior1st_VinylSd', 'Exterior1st_Wd Sdng', 'Exterior1st_WdShing', 'Exterior2nd_AsbShng', 'Exterior2nd_AsphShn', 'Exterior2nd_Brk Cmn', 'Exterior2nd_BrkFace', 'Exterior2nd_CBlock', 'Exterior2nd_CmentBd', 'Exterior2nd_HdBoard', 'Exterior2nd_ImStucc', 'Exterior2nd_MetalSd', 'Exterior2nd_Other', 'Exterior2nd_Plywood', 'Exterior2nd_Stone', 'Exterior2nd_Stucco', 'Exterior2nd_VinylSd', 'Exterior2nd_Wd Sdng', 'Exterior2nd_Wd Shng', 'MasVnrType_BrkCmn', 'MasVnrType_BrkFace', 'MasVnrType_None', 'MasVnrType_Stone', 'ExterQual_Ex', 'ExterQual_Fa', 'ExterQual_Gd', 'ExterQual_TA', 'ExterCond_Ex', 'ExterCond_Fa', 'ExterCond_Gd', 'ExterCond_Po', 'ExterCond_TA', 'Foundation_BrkTil', 'Foundation_CBlock', 'Foundation_PConc', 'Foundation_Slab', 'Foundation_Stone', 'Foundation_Wood', 'BsmtQual_Ex', 'BsmtQual_Fa', 'BsmtQual_Gd', 'BsmtQual_NAN', 'BsmtQual_TA', 'BsmtCond_Fa', 'BsmtCond_Gd', 'BsmtCond_NAN', 'BsmtCond_Po', 'BsmtCond_TA', 'BsmtExposure_Av', 'BsmtExposure_Gd', 'BsmtExposure_Mn', 'BsmtExposure_NAN', 'BsmtExposure_No', 'BsmtFinType1_ALQ', 'BsmtFinType1_BLQ', 'BsmtFinType1_GLQ', 'BsmtFinType1_LwQ', 'BsmtFinType1_NAN', 'BsmtFinType1_Rec', 'BsmtFinType1_Unf', 'BsmtFinType2_ALQ', 'BsmtFinType2_BLQ', 'BsmtFinType2_GLQ', 'BsmtFinType2_LwQ', 'BsmtFinType2_NAN', 'BsmtFinType2_Rec', 'BsmtFinType2_Unf', 'HeatingQC_Ex', 'HeatingQC_Fa', 'HeatingQC_Gd', 'HeatingQC_Po', 'HeatingQC_TA', 'CentralAir_N', 'CentralAir_Y', 'Electrical_FuseA', 'Electrical_FuseF', 'Electrical_FuseP', 'Electrical_Mix', 'Electrical_SBrkr', 'KitchenQual_Ex', 'KitchenQual_Fa', 'KitchenQual_Gd', 'KitchenQual_TA', 'Functional_Maj1', 'Functional_Maj2', 'Functional_Min1', 'Functional_Min2', 'Functional_Mod', 'Functional_Sev', 'Functional_Typ', 'FireplaceQu_Ex', 'FireplaceQu_Fa', 'FireplaceQu_Gd', 'FireplaceQu_NAN', 'FireplaceQu_Po', 'FireplaceQu_TA', 'GarageType_2Types', 'GarageType_Attchd', 'GarageType_Basment', 'GarageType_BuiltIn', 'GarageType_CarPort', 'GarageType_Detchd', 'GarageType_NAN', 'GarageFinish_Fin', 'GarageFinish_NAN', 'GarageFinish_RFn', 'GarageFinish_Unf', 'GarageQual_Ex', 'GarageQual_Fa', 'GarageQual_Gd', 'GarageQual_NAN', 'GarageQual_Po', 'GarageQual_TA', 'GarageCond_Ex', 'GarageCond_Fa', 'GarageCond_Gd', 'GarageCond_NAN', 'GarageCond_Po', 'GarageCond_TA', 'PavedDrive_N', 'PavedDrive_P', 'PavedDrive_Y', 'Fence_GdPrv', 'Fence_GdWo', 'Fence_MnPrv', 'Fence_MnWw', 'Fence_NAN', 'SaleType_COD', 'SaleType_CWD', 'SaleType_Con', 'SaleType_ConLD', 'SaleType_ConLI', 'SaleType_ConLw', 'SaleType_New', 'SaleType_Oth', 'SaleType_WD', 'SaleCondition_Abnorml', 'SaleCondition_AdjLand', 'SaleCondition_Alloca', 'SaleCondition_Family', 'SaleCondition_Normal', 'SaleCondition_Partial']\n",
      "--------------------\n",
      "['MSSubClass', 'LotArea', 'OverallQual', 'OverallCond', 'YearBuilt', 'YearRemodAdd', 'MasVnrArea', 'BsmtFinSF1', 'BsmtFinSF2', 'BsmtUnfSF', 'TotalBsmtSF', '1stFlrSF', '2ndFlrSF', 'GrLivArea', 'BsmtFullBath', 'BsmtHalfBath', 'FullBath', 'HalfBath', 'BedroomAbvGr', 'KitchenAbvGr', 'TotRmsAbvGrd', 'Fireplaces', 'GarageYrBlt', 'GarageCars', 'GarageArea', 'WoodDeckSF', 'OpenPorchSF', 'EnclosedPorch', 'MoSold', 'YrSold', 'MSZoning_C (all)', 'MSZoning_FV', 'MSZoning_RH', 'MSZoning_RL', 'MSZoning_RM', 'LotShape_IR1', 'LotShape_IR2', 'LotShape_IR3', 'LotShape_Reg', 'LandContour_Bnk', 'LandContour_HLS', 'LandContour_Low', 'LandContour_Lvl', 'LotConfig_Corner', 'LotConfig_CulDSac', 'LotConfig_FR2', 'LotConfig_FR3', 'LotConfig_Inside', 'LandSlope_Gtl', 'LandSlope_Mod', 'LandSlope_Sev', 'Neighborhood_Blmngtn', 'Neighborhood_Blueste', 'Neighborhood_BrDale', 'Neighborhood_BrkSide', 'Neighborhood_ClearCr', 'Neighborhood_CollgCr', 'Neighborhood_Crawfor', 'Neighborhood_Edwards', 'Neighborhood_Gilbert', 'Neighborhood_IDOTRR', 'Neighborhood_MeadowV', 'Neighborhood_Mitchel', 'Neighborhood_NAmes', 'Neighborhood_NPkVill', 'Neighborhood_NWAmes', 'Neighborhood_NoRidge', 'Neighborhood_NridgHt', 'Neighborhood_OldTown', 'Neighborhood_SWISU', 'Neighborhood_Sawyer', 'Neighborhood_SawyerW', 'Neighborhood_Somerst', 'Neighborhood_StoneBr', 'Neighborhood_Timber', 'Neighborhood_Veenker', 'Condition1_Artery', 'Condition1_Feedr', 'Condition1_Norm', 'Condition1_PosA', 'Condition1_PosN', 'Condition1_RRAe', 'Condition1_RRAn', 'Condition1_RRNe', 'Condition1_RRNn', 'BldgType_1Fam', 'BldgType_2fmCon', 'BldgType_Duplex', 'BldgType_Twnhs', 'BldgType_TwnhsE', 'HouseStyle_1.5Fin', 'HouseStyle_1.5Unf', 'HouseStyle_1Story', 'HouseStyle_2.5Fin', 'HouseStyle_2.5Unf', 'HouseStyle_2Story', 'HouseStyle_SFoyer', 'HouseStyle_SLvl', 'RoofStyle_Flat', 'RoofStyle_Gable', 'RoofStyle_Gambrel', 'RoofStyle_Hip', 'RoofStyle_Mansard', 'RoofStyle_Shed', 'Exterior1st_AsbShng', 'Exterior1st_AsphShn', 'Exterior1st_BrkComm', 'Exterior1st_BrkFace', 'Exterior1st_CBlock', 'Exterior1st_CemntBd', 'Exterior1st_HdBoard', 'Exterior1st_ImStucc', 'Exterior1st_MetalSd', 'Exterior1st_Plywood', 'Exterior1st_Stone', 'Exterior1st_Stucco', 'Exterior1st_VinylSd', 'Exterior1st_Wd Sdng', 'Exterior1st_WdShing', 'Exterior2nd_AsbShng', 'Exterior2nd_AsphShn', 'Exterior2nd_Brk Cmn', 'Exterior2nd_BrkFace', 'Exterior2nd_CBlock', 'Exterior2nd_CmentBd', 'Exterior2nd_HdBoard', 'Exterior2nd_ImStucc', 'Exterior2nd_MetalSd', 'Exterior2nd_Other', 'Exterior2nd_Plywood', 'Exterior2nd_Stone', 'Exterior2nd_Stucco', 'Exterior2nd_VinylSd', 'Exterior2nd_Wd Sdng', 'Exterior2nd_Wd Shng', 'MasVnrType_BrkCmn', 'MasVnrType_BrkFace', 'MasVnrType_None', 'MasVnrType_Stone', 'ExterQual_Ex', 'ExterQual_Fa', 'ExterQual_Gd', 'ExterQual_TA', 'ExterCond_Ex', 'ExterCond_Fa', 'ExterCond_Gd', 'ExterCond_Po', 'ExterCond_TA', 'Foundation_BrkTil', 'Foundation_CBlock', 'Foundation_PConc', 'Foundation_Slab', 'Foundation_Stone', 'Foundation_Wood', 'BsmtQual_Ex', 'BsmtQual_Fa', 'BsmtQual_Gd', 'BsmtQual_NAN', 'BsmtQual_TA', 'BsmtCond_Fa', 'BsmtCond_Gd', 'BsmtCond_NAN', 'BsmtCond_Po', 'BsmtCond_TA', 'BsmtExposure_Av', 'BsmtExposure_Gd', 'BsmtExposure_Mn', 'BsmtExposure_NAN', 'BsmtExposure_No', 'BsmtFinType1_ALQ', 'BsmtFinType1_BLQ', 'BsmtFinType1_GLQ', 'BsmtFinType1_LwQ', 'BsmtFinType1_NAN', 'BsmtFinType1_Rec', 'BsmtFinType1_Unf', 'BsmtFinType2_ALQ', 'BsmtFinType2_BLQ', 'BsmtFinType2_GLQ', 'BsmtFinType2_LwQ', 'BsmtFinType2_NAN', 'BsmtFinType2_Rec', 'BsmtFinType2_Unf', 'HeatingQC_Ex', 'HeatingQC_Fa', 'HeatingQC_Gd', 'HeatingQC_Po', 'HeatingQC_TA', 'CentralAir_N', 'CentralAir_Y', 'Electrical_FuseA', 'Electrical_FuseF', 'Electrical_FuseP', 'Electrical_Mix', 'Electrical_SBrkr', 'KitchenQual_Ex', 'KitchenQual_Fa', 'KitchenQual_Gd', 'KitchenQual_TA', 'Functional_Maj1', 'Functional_Maj2', 'Functional_Min1', 'Functional_Min2', 'Functional_Mod', 'Functional_Sev', 'Functional_Typ', 'FireplaceQu_Ex', 'FireplaceQu_Fa', 'FireplaceQu_Gd', 'FireplaceQu_NAN', 'FireplaceQu_Po', 'FireplaceQu_TA', 'GarageType_2Types', 'GarageType_Attchd', 'GarageType_Basment', 'GarageType_BuiltIn', 'GarageType_CarPort', 'GarageType_Detchd', 'GarageType_NAN', 'GarageFinish_Fin', 'GarageFinish_NAN', 'GarageFinish_RFn', 'GarageFinish_Unf', 'GarageQual_Ex', 'GarageQual_Fa', 'GarageQual_Gd', 'GarageQual_NAN', 'GarageQual_Po', 'GarageQual_TA', 'GarageCond_Ex', 'GarageCond_Fa', 'GarageCond_Gd', 'GarageCond_NAN', 'GarageCond_Po', 'GarageCond_TA', 'PavedDrive_N', 'PavedDrive_P', 'PavedDrive_Y', 'Fence_GdPrv', 'Fence_GdWo', 'Fence_MnPrv', 'Fence_MnWw', 'Fence_NAN', 'SaleType_COD', 'SaleType_CWD', 'SaleType_Con', 'SaleType_ConLD', 'SaleType_ConLI', 'SaleType_ConLw', 'SaleType_New', 'SaleType_Oth', 'SaleType_WD', 'SaleCondition_Abnorml', 'SaleCondition_AdjLand', 'SaleCondition_Alloca', 'SaleCondition_Family', 'SaleCondition_Normal', 'SaleCondition_Partial']\n",
      "++++++++++++++++++++\n",
      "<class 'pandas.core.frame.DataFrame'>\n",
      "RangeIndex: 1460 entries, 0 to 1459\n",
      "Columns: 259 entries, SalePrice to SaleCondition_Partial\n",
      "dtypes: float64(2), int64(29), uint8(228)\n",
      "memory usage: 678.8 KB\n",
      "--------------------\n",
      "<class 'pandas.core.frame.DataFrame'>\n",
      "RangeIndex: 1459 entries, 0 to 1458\n",
      "Columns: 258 entries, MSSubClass to SaleCondition_Partial\n",
      "dtypes: float64(16), int64(20), uint8(222)\n",
      "memory usage: 726.7 KB\n",
      "++++++++++++++++++++\n"
     ]
    }
   ],
   "source": [
    "def showColums():\n",
    "    \n",
    "    print('+'*20)\n",
    "    \n",
    "    print(data_train.columns.values.tolist())\n",
    "    print('-'*20)\n",
    "    print(data_test.columns.values.tolist())\n",
    "\n",
    "    print('+'*20)\n",
    "    \n",
    "    data_train.info()\n",
    "    print('-'*20)\n",
    "    data_test.info()\n",
    "    \n",
    "    print('+'*20)\n",
    "    \n",
    "showColums()"
   ]
  },
  {
   "cell_type": "code",
   "execution_count": 18,
   "metadata": {
    "collapsed": false
   },
   "outputs": [
    {
     "name": "stdout",
     "output_type": "stream",
     "text": [
      "(1022, 258) (1022,)\n",
      "(438, 258) (438,)\n"
     ]
    },
    {
     "name": "stderr",
     "output_type": "stream",
     "text": [
      "D:\\Anaconda2\\envs\\python36\\lib\\site-packages\\ipykernel\\__main__.py:5: FutureWarning: Method .as_matrix will be removed in a future version. Use .values instead.\n",
      "D:\\Anaconda2\\envs\\python36\\lib\\site-packages\\ipykernel\\__main__.py:16: FutureWarning: Method .as_matrix will be removed in a future version. Use .values instead.\n"
     ]
    }
   ],
   "source": [
    "from sklearn import cross_validation\n",
    "\n",
    "split_train, split_cv = cross_validation.train_test_split(data_train, test_size=0.3, random_state=0)\n",
    "\n",
    "train_np = split_train.as_matrix()\n",
    "\n",
    "# y即Survival结果\n",
    "y = train_np[:, 0]\n",
    "\n",
    "# X即特征属性值\n",
    "X = train_np[:, 1:]\n",
    "\n",
    "print(X.shape,y.shape)\n",
    "\n",
    "\n",
    "train_np_v = split_cv.as_matrix()\n",
    "\n",
    "# y即Survival结果\n",
    "y_v = train_np_v[:, 0]\n",
    "\n",
    "# X即特征属性值\n",
    "X_v = train_np_v[:, 1:]\n",
    "\n",
    "print(X_v.shape,y_v.shape)\n",
    "#print(split_cv.info())"
   ]
  },
  {
   "cell_type": "code",
   "execution_count": 44,
   "metadata": {
    "collapsed": true
   },
   "outputs": [],
   "source": [
    "def showModelAbility(rf):\n",
    "    \n",
    "    y_pred = rf.predict(X)\n",
    "\n",
    "    print(y)\n",
    "    print(y_pred)\n",
    "\n",
    "    print('score',tempRf.score(X,y) )\n",
    "    print('oob_score_',tempRf.oob_score_)\n",
    "\n",
    "    print('R^2',metrics.r2_score(y,y_pred) )\n",
    "    print('均方误差',metrics.mean_squared_error(y,y_pred) )\n",
    "    print('平均绝对误差',metrics.mean_absolute_error(y,y_pred) )"
   ]
  },
  {
   "cell_type": "code",
   "execution_count": 45,
   "metadata": {
    "collapsed": false
   },
   "outputs": [
    {
     "name": "stdout",
     "output_type": "stream",
     "text": [
      "[219500. 173000. 116500. ... 112000. 234000. 221000.]\n",
      "[223360. 163200. 112650. ... 125600. 221150. 224750.]\n",
      "score 0.9660908464345505\n",
      "oob_score_ 0.8525970245408772\n",
      "R^2 0.9678165722434093\n",
      "均方误差 196311063.29103717\n",
      "平均绝对误差 8159.8009784735805\n"
     ]
    },
    {
     "name": "stderr",
     "output_type": "stream",
     "text": [
      "D:\\Anaconda2\\envs\\python36\\lib\\site-packages\\sklearn\\ensemble\\forest.py:724: UserWarning: Some inputs do not have OOB scores. This probably means too few trees were used to compute any reliable oob estimates.\n",
      "  warn(\"Some inputs do not have OOB scores. \"\n"
     ]
    }
   ],
   "source": [
    "from sklearn.ensemble import RandomForestRegressor\n",
    "from sklearn import cross_validation, metrics\n",
    "\n",
    "rf0 = RandomForestRegressor(oob_score=True, random_state=10)  \n",
    "rf0.fit(X,y)  \n",
    "\n",
    "\n",
    "showModelAbility(rf0)"
   ]
  },
  {
   "cell_type": "code",
   "execution_count": 28,
   "metadata": {
    "collapsed": false
   },
   "outputs": [
    {
     "name": "stderr",
     "output_type": "stream",
     "text": [
      "D:\\Anaconda2\\envs\\python36\\lib\\site-packages\\sklearn\\ensemble\\forest.py:724: UserWarning: Some inputs do not have OOB scores. This probably means too few trees were used to compute any reliable oob estimates.\n",
      "  warn(\"Some inputs do not have OOB scores. \"\n",
      "D:\\Anaconda2\\envs\\python36\\lib\\site-packages\\sklearn\\ensemble\\forest.py:724: UserWarning: Some inputs do not have OOB scores. This probably means too few trees were used to compute any reliable oob estimates.\n",
      "  warn(\"Some inputs do not have OOB scores. \"\n",
      "D:\\Anaconda2\\envs\\python36\\lib\\site-packages\\sklearn\\ensemble\\forest.py:724: UserWarning: Some inputs do not have OOB scores. This probably means too few trees were used to compute any reliable oob estimates.\n",
      "  warn(\"Some inputs do not have OOB scores. \"\n",
      "D:\\Anaconda2\\envs\\python36\\lib\\site-packages\\sklearn\\ensemble\\forest.py:724: UserWarning: Some inputs do not have OOB scores. This probably means too few trees were used to compute any reliable oob estimates.\n",
      "  warn(\"Some inputs do not have OOB scores. \"\n",
      "D:\\Anaconda2\\envs\\python36\\lib\\site-packages\\sklearn\\ensemble\\forest.py:724: UserWarning: Some inputs do not have OOB scores. This probably means too few trees were used to compute any reliable oob estimates.\n",
      "  warn(\"Some inputs do not have OOB scores. \"\n"
     ]
    },
    {
     "data": {
      "text/plain": [
       "([mean: 0.82188, std: 0.03459, params: {'n_estimators': 10},\n",
       "  mean: 0.84193, std: 0.03221, params: {'n_estimators': 20},\n",
       "  mean: 0.84749, std: 0.03521, params: {'n_estimators': 30},\n",
       "  mean: 0.84529, std: 0.03695, params: {'n_estimators': 40},\n",
       "  mean: 0.84562, std: 0.03898, params: {'n_estimators': 50},\n",
       "  mean: 0.84674, std: 0.03526, params: {'n_estimators': 60},\n",
       "  mean: 0.84745, std: 0.03496, params: {'n_estimators': 70},\n",
       "  mean: 0.84804, std: 0.03516, params: {'n_estimators': 80},\n",
       "  mean: 0.84885, std: 0.03375, params: {'n_estimators': 90},\n",
       "  mean: 0.84917, std: 0.03367, params: {'n_estimators': 100},\n",
       "  mean: 0.85055, std: 0.03245, params: {'n_estimators': 110},\n",
       "  mean: 0.84999, std: 0.03211, params: {'n_estimators': 120},\n",
       "  mean: 0.85139, std: 0.03157, params: {'n_estimators': 130},\n",
       "  mean: 0.85074, std: 0.03246, params: {'n_estimators': 140},\n",
       "  mean: 0.85146, std: 0.03191, params: {'n_estimators': 150},\n",
       "  mean: 0.85184, std: 0.03170, params: {'n_estimators': 160},\n",
       "  mean: 0.85190, std: 0.03189, params: {'n_estimators': 170},\n",
       "  mean: 0.85218, std: 0.03245, params: {'n_estimators': 180},\n",
       "  mean: 0.85228, std: 0.03217, params: {'n_estimators': 190},\n",
       "  mean: 0.85253, std: 0.03213, params: {'n_estimators': 200}],\n",
       " {'n_estimators': 200},\n",
       " 0.8525260509191503)"
      ]
     },
     "execution_count": 28,
     "metadata": {},
     "output_type": "execute_result"
    }
   ],
   "source": [
    "from sklearn.grid_search import GridSearchCV \n",
    "\n",
    "\n",
    "#首先对n_estimators进行网格搜索  \n",
    "param_test1= {'n_estimators':list(range(10,201,10))}  \n",
    "gsearch1= GridSearchCV(estimator = RandomForestRegressor(oob_score=True,random_state=10),  \n",
    "                       param_grid =param_test1,cv=5)  \n",
    "gsearch1.fit(X,y)  \n",
    "gsearch1.grid_scores_,gsearch1.best_params_, gsearch1.best_score_ "
   ]
  },
  {
   "cell_type": "code",
   "execution_count": 29,
   "metadata": {
    "collapsed": false,
    "scrolled": true
   },
   "outputs": [
    {
     "data": {
      "text/plain": [
       "([mean: 0.75743, std: 0.02570, params: {'max_depth': 3, 'min_samples_split': 2},\n",
       "  mean: 0.75707, std: 0.02580, params: {'max_depth': 3, 'min_samples_split': 7},\n",
       "  mean: 0.75724, std: 0.02547, params: {'max_depth': 3, 'min_samples_split': 12},\n",
       "  mean: 0.75743, std: 0.02436, params: {'max_depth': 3, 'min_samples_split': 17},\n",
       "  mean: 0.75622, std: 0.02404, params: {'max_depth': 3, 'min_samples_split': 22},\n",
       "  mean: 0.75557, std: 0.02402, params: {'max_depth': 3, 'min_samples_split': 27},\n",
       "  mean: 0.75490, std: 0.02404, params: {'max_depth': 3, 'min_samples_split': 32},\n",
       "  mean: 0.75332, std: 0.02335, params: {'max_depth': 3, 'min_samples_split': 37},\n",
       "  mean: 0.75266, std: 0.02321, params: {'max_depth': 3, 'min_samples_split': 42},\n",
       "  mean: 0.75161, std: 0.02278, params: {'max_depth': 3, 'min_samples_split': 47},\n",
       "  mean: 0.82327, std: 0.02862, params: {'max_depth': 5, 'min_samples_split': 2},\n",
       "  mean: 0.82366, std: 0.02720, params: {'max_depth': 5, 'min_samples_split': 7},\n",
       "  mean: 0.82204, std: 0.02544, params: {'max_depth': 5, 'min_samples_split': 12},\n",
       "  mean: 0.82072, std: 0.02397, params: {'max_depth': 5, 'min_samples_split': 17},\n",
       "  mean: 0.81677, std: 0.02393, params: {'max_depth': 5, 'min_samples_split': 22},\n",
       "  mean: 0.81337, std: 0.02479, params: {'max_depth': 5, 'min_samples_split': 27},\n",
       "  mean: 0.81126, std: 0.02483, params: {'max_depth': 5, 'min_samples_split': 32},\n",
       "  mean: 0.80644, std: 0.02562, params: {'max_depth': 5, 'min_samples_split': 37},\n",
       "  mean: 0.80339, std: 0.02451, params: {'max_depth': 5, 'min_samples_split': 42},\n",
       "  mean: 0.79884, std: 0.02432, params: {'max_depth': 5, 'min_samples_split': 47},\n",
       "  mean: 0.84457, std: 0.02714, params: {'max_depth': 7, 'min_samples_split': 2},\n",
       "  mean: 0.84330, std: 0.02886, params: {'max_depth': 7, 'min_samples_split': 7},\n",
       "  mean: 0.83940, std: 0.02529, params: {'max_depth': 7, 'min_samples_split': 12},\n",
       "  mean: 0.83613, std: 0.02479, params: {'max_depth': 7, 'min_samples_split': 17},\n",
       "  mean: 0.83256, std: 0.02297, params: {'max_depth': 7, 'min_samples_split': 22},\n",
       "  mean: 0.82745, std: 0.02481, params: {'max_depth': 7, 'min_samples_split': 27},\n",
       "  mean: 0.82371, std: 0.02441, params: {'max_depth': 7, 'min_samples_split': 32},\n",
       "  mean: 0.81579, std: 0.02708, params: {'max_depth': 7, 'min_samples_split': 37},\n",
       "  mean: 0.81065, std: 0.02697, params: {'max_depth': 7, 'min_samples_split': 42},\n",
       "  mean: 0.80566, std: 0.02592, params: {'max_depth': 7, 'min_samples_split': 47},\n",
       "  mean: 0.85088, std: 0.03113, params: {'max_depth': 9, 'min_samples_split': 2},\n",
       "  mean: 0.85125, std: 0.02571, params: {'max_depth': 9, 'min_samples_split': 7},\n",
       "  mean: 0.84464, std: 0.02552, params: {'max_depth': 9, 'min_samples_split': 12},\n",
       "  mean: 0.84140, std: 0.02462, params: {'max_depth': 9, 'min_samples_split': 17},\n",
       "  mean: 0.83544, std: 0.02345, params: {'max_depth': 9, 'min_samples_split': 22},\n",
       "  mean: 0.82926, std: 0.02519, params: {'max_depth': 9, 'min_samples_split': 27},\n",
       "  mean: 0.82328, std: 0.02680, params: {'max_depth': 9, 'min_samples_split': 32},\n",
       "  mean: 0.81785, std: 0.02645, params: {'max_depth': 9, 'min_samples_split': 37},\n",
       "  mean: 0.81238, std: 0.02637, params: {'max_depth': 9, 'min_samples_split': 42},\n",
       "  mean: 0.80664, std: 0.02620, params: {'max_depth': 9, 'min_samples_split': 47},\n",
       "  mean: 0.85257, std: 0.03128, params: {'max_depth': 11, 'min_samples_split': 2},\n",
       "  mean: 0.84967, std: 0.03074, params: {'max_depth': 11, 'min_samples_split': 7},\n",
       "  mean: 0.84684, std: 0.02677, params: {'max_depth': 11, 'min_samples_split': 12},\n",
       "  mean: 0.84216, std: 0.02484, params: {'max_depth': 11, 'min_samples_split': 17},\n",
       "  mean: 0.83579, std: 0.02366, params: {'max_depth': 11, 'min_samples_split': 22},\n",
       "  mean: 0.82923, std: 0.02589, params: {'max_depth': 11, 'min_samples_split': 27},\n",
       "  mean: 0.82461, std: 0.02577, params: {'max_depth': 11, 'min_samples_split': 32},\n",
       "  mean: 0.81813, std: 0.02646, params: {'max_depth': 11, 'min_samples_split': 37},\n",
       "  mean: 0.81186, std: 0.02696, params: {'max_depth': 11, 'min_samples_split': 42},\n",
       "  mean: 0.80645, std: 0.02653, params: {'max_depth': 11, 'min_samples_split': 47},\n",
       "  mean: 0.85308, std: 0.03118, params: {'max_depth': 13, 'min_samples_split': 2},\n",
       "  mean: 0.85085, std: 0.02855, params: {'max_depth': 13, 'min_samples_split': 7},\n",
       "  mean: 0.84512, std: 0.02858, params: {'max_depth': 13, 'min_samples_split': 12},\n",
       "  mean: 0.84254, std: 0.02430, params: {'max_depth': 13, 'min_samples_split': 17},\n",
       "  mean: 0.83523, std: 0.02464, params: {'max_depth': 13, 'min_samples_split': 22},\n",
       "  mean: 0.82962, std: 0.02607, params: {'max_depth': 13, 'min_samples_split': 27},\n",
       "  mean: 0.82453, std: 0.02608, params: {'max_depth': 13, 'min_samples_split': 32},\n",
       "  mean: 0.81809, std: 0.02655, params: {'max_depth': 13, 'min_samples_split': 37},\n",
       "  mean: 0.81190, std: 0.02691, params: {'max_depth': 13, 'min_samples_split': 42},\n",
       "  mean: 0.80653, std: 0.02649, params: {'max_depth': 13, 'min_samples_split': 47}],\n",
       " {'max_depth': 13, 'min_samples_split': 2},\n",
       " 0.8530830197422)"
      ]
     },
     "execution_count": 29,
     "metadata": {},
     "output_type": "execute_result"
    }
   ],
   "source": [
    "best_n_estimators = gsearch1.best_params_[\"n_estimators\"]\n",
    "\n",
    "param_test2= {'max_depth':list(range(3,14,2)), 'min_samples_split':list(range(2,50,5))}  \n",
    "gsearch2= GridSearchCV(estimator = RandomForestRegressor(n_estimators= best_n_estimators,oob_score=True,random_state=10),  \n",
    "   param_grid = param_test2,iid=False, cv=5)  \n",
    "gsearch2.fit(X,y)  \n",
    "gsearch2.grid_scores_,gsearch2.best_params_, gsearch2.best_score_ "
   ]
  },
  {
   "cell_type": "code",
   "execution_count": 33,
   "metadata": {
    "collapsed": false
   },
   "outputs": [
    {
     "name": "stdout",
     "output_type": "stream",
     "text": [
      "[219500. 173000. 116500. ... 112000. 234000. 221000.]\n",
      "[226059.44415038 169625.38816722 118040.84711135 ... 127587.10660704\n",
      " 217768.24667566 223235.47539601]\n",
      "score 0.979648381554226\n",
      "oob_score_ 0.8520520205356128\n",
      "R^2 0.9796483815542258\n",
      "均方误差 124139910.98152237\n",
      "平均绝对误差 6786.517142229784\n"
     ]
    }
   ],
   "source": [
    "best_max_depth = gsearch2.best_params_[\"max_depth\"]\n",
    "best_min_samples_split = gsearch2.best_params_[\"min_samples_split\"]\n",
    "\n",
    "rf1= RandomForestRegressor(n_estimators= best_n_estimators, \n",
    "                            max_depth=best_max_depth, \n",
    "                            min_samples_split=best_min_samples_split,\n",
    "                            oob_score=True,random_state=10)  \n",
    "rf1.fit(X,y)  \n",
    "\n",
    "tempRf = rf1\n",
    "\n",
    "y_pred = tempRf.predict(X)\n",
    "\n",
    "print(y)\n",
    "print(y_pred)\n",
    "\n",
    "print('score',tempRf.score(X,y) )\n",
    "print('oob_score_',tempRf.oob_score_)\n",
    "\n",
    "print('R^2',metrics.r2_score(y,y_pred) )\n",
    "print('均方误差',metrics.mean_squared_error(y,y_pred) )\n",
    "print('平均绝对误差',metrics.mean_absolute_error(y,y_pred) )"
   ]
  },
  {
   "cell_type": "code",
   "execution_count": 35,
   "metadata": {
    "collapsed": false,
    "scrolled": true
   },
   "outputs": [
    {
     "data": {
      "text/plain": [
       "([mean: 0.84806, std: 0.03456, params: {'min_samples_leaf': 2, 'min_samples_split': 2},\n",
       "  mean: 0.84661, std: 0.03182, params: {'min_samples_leaf': 2, 'min_samples_split': 7},\n",
       "  mean: 0.84294, std: 0.02921, params: {'min_samples_leaf': 2, 'min_samples_split': 12},\n",
       "  mean: 0.84007, std: 0.02717, params: {'min_samples_leaf': 2, 'min_samples_split': 17},\n",
       "  mean: 0.83460, std: 0.02635, params: {'min_samples_leaf': 2, 'min_samples_split': 22},\n",
       "  mean: 0.82914, std: 0.02725, params: {'min_samples_leaf': 2, 'min_samples_split': 27},\n",
       "  mean: 0.82384, std: 0.02755, params: {'min_samples_leaf': 2, 'min_samples_split': 32},\n",
       "  mean: 0.81797, std: 0.02707, params: {'min_samples_leaf': 2, 'min_samples_split': 37},\n",
       "  mean: 0.84093, std: 0.03045, params: {'min_samples_leaf': 7, 'min_samples_split': 2},\n",
       "  mean: 0.84093, std: 0.03045, params: {'min_samples_leaf': 7, 'min_samples_split': 7},\n",
       "  mean: 0.84093, std: 0.03045, params: {'min_samples_leaf': 7, 'min_samples_split': 12},\n",
       "  mean: 0.83848, std: 0.02997, params: {'min_samples_leaf': 7, 'min_samples_split': 17},\n",
       "  mean: 0.83203, std: 0.02932, params: {'min_samples_leaf': 7, 'min_samples_split': 22},\n",
       "  mean: 0.82740, std: 0.02983, params: {'min_samples_leaf': 7, 'min_samples_split': 27},\n",
       "  mean: 0.82303, std: 0.02961, params: {'min_samples_leaf': 7, 'min_samples_split': 32},\n",
       "  mean: 0.81804, std: 0.02983, params: {'min_samples_leaf': 7, 'min_samples_split': 37},\n",
       "  mean: 0.82570, std: 0.03139, params: {'min_samples_leaf': 12, 'min_samples_split': 2},\n",
       "  mean: 0.82570, std: 0.03139, params: {'min_samples_leaf': 12, 'min_samples_split': 7},\n",
       "  mean: 0.82570, std: 0.03139, params: {'min_samples_leaf': 12, 'min_samples_split': 12},\n",
       "  mean: 0.82570, std: 0.03139, params: {'min_samples_leaf': 12, 'min_samples_split': 17},\n",
       "  mean: 0.82570, std: 0.03139, params: {'min_samples_leaf': 12, 'min_samples_split': 22},\n",
       "  mean: 0.82285, std: 0.03189, params: {'min_samples_leaf': 12, 'min_samples_split': 27},\n",
       "  mean: 0.81855, std: 0.03199, params: {'min_samples_leaf': 12, 'min_samples_split': 32},\n",
       "  mean: 0.81374, std: 0.03204, params: {'min_samples_leaf': 12, 'min_samples_split': 37},\n",
       "  mean: 0.80991, std: 0.03202, params: {'min_samples_leaf': 17, 'min_samples_split': 2},\n",
       "  mean: 0.80991, std: 0.03202, params: {'min_samples_leaf': 17, 'min_samples_split': 7},\n",
       "  mean: 0.80991, std: 0.03202, params: {'min_samples_leaf': 17, 'min_samples_split': 12},\n",
       "  mean: 0.80991, std: 0.03202, params: {'min_samples_leaf': 17, 'min_samples_split': 17},\n",
       "  mean: 0.80991, std: 0.03202, params: {'min_samples_leaf': 17, 'min_samples_split': 22},\n",
       "  mean: 0.80991, std: 0.03202, params: {'min_samples_leaf': 17, 'min_samples_split': 27},\n",
       "  mean: 0.80991, std: 0.03202, params: {'min_samples_leaf': 17, 'min_samples_split': 32},\n",
       "  mean: 0.80723, std: 0.03197, params: {'min_samples_leaf': 17, 'min_samples_split': 37},\n",
       "  mean: 0.79274, std: 0.03338, params: {'min_samples_leaf': 22, 'min_samples_split': 2},\n",
       "  mean: 0.79274, std: 0.03338, params: {'min_samples_leaf': 22, 'min_samples_split': 7},\n",
       "  mean: 0.79274, std: 0.03338, params: {'min_samples_leaf': 22, 'min_samples_split': 12},\n",
       "  mean: 0.79274, std: 0.03338, params: {'min_samples_leaf': 22, 'min_samples_split': 17},\n",
       "  mean: 0.79274, std: 0.03338, params: {'min_samples_leaf': 22, 'min_samples_split': 22},\n",
       "  mean: 0.79274, std: 0.03338, params: {'min_samples_leaf': 22, 'min_samples_split': 27},\n",
       "  mean: 0.79274, std: 0.03338, params: {'min_samples_leaf': 22, 'min_samples_split': 32},\n",
       "  mean: 0.79274, std: 0.03338, params: {'min_samples_leaf': 22, 'min_samples_split': 37},\n",
       "  mean: 0.77871, std: 0.03261, params: {'min_samples_leaf': 27, 'min_samples_split': 2},\n",
       "  mean: 0.77871, std: 0.03261, params: {'min_samples_leaf': 27, 'min_samples_split': 7},\n",
       "  mean: 0.77871, std: 0.03261, params: {'min_samples_leaf': 27, 'min_samples_split': 12},\n",
       "  mean: 0.77871, std: 0.03261, params: {'min_samples_leaf': 27, 'min_samples_split': 17},\n",
       "  mean: 0.77871, std: 0.03261, params: {'min_samples_leaf': 27, 'min_samples_split': 22},\n",
       "  mean: 0.77871, std: 0.03261, params: {'min_samples_leaf': 27, 'min_samples_split': 27},\n",
       "  mean: 0.77871, std: 0.03261, params: {'min_samples_leaf': 27, 'min_samples_split': 32},\n",
       "  mean: 0.77871, std: 0.03261, params: {'min_samples_leaf': 27, 'min_samples_split': 37},\n",
       "  mean: 0.76524, std: 0.03199, params: {'min_samples_leaf': 32, 'min_samples_split': 2},\n",
       "  mean: 0.76524, std: 0.03199, params: {'min_samples_leaf': 32, 'min_samples_split': 7},\n",
       "  mean: 0.76524, std: 0.03199, params: {'min_samples_leaf': 32, 'min_samples_split': 12},\n",
       "  mean: 0.76524, std: 0.03199, params: {'min_samples_leaf': 32, 'min_samples_split': 17},\n",
       "  mean: 0.76524, std: 0.03199, params: {'min_samples_leaf': 32, 'min_samples_split': 22},\n",
       "  mean: 0.76524, std: 0.03199, params: {'min_samples_leaf': 32, 'min_samples_split': 27},\n",
       "  mean: 0.76524, std: 0.03199, params: {'min_samples_leaf': 32, 'min_samples_split': 32},\n",
       "  mean: 0.76524, std: 0.03199, params: {'min_samples_leaf': 32, 'min_samples_split': 37},\n",
       "  mean: 0.75139, std: 0.03580, params: {'min_samples_leaf': 37, 'min_samples_split': 2},\n",
       "  mean: 0.75139, std: 0.03580, params: {'min_samples_leaf': 37, 'min_samples_split': 7},\n",
       "  mean: 0.75139, std: 0.03580, params: {'min_samples_leaf': 37, 'min_samples_split': 12},\n",
       "  mean: 0.75139, std: 0.03580, params: {'min_samples_leaf': 37, 'min_samples_split': 17},\n",
       "  mean: 0.75139, std: 0.03580, params: {'min_samples_leaf': 37, 'min_samples_split': 22},\n",
       "  mean: 0.75139, std: 0.03580, params: {'min_samples_leaf': 37, 'min_samples_split': 27},\n",
       "  mean: 0.75139, std: 0.03580, params: {'min_samples_leaf': 37, 'min_samples_split': 32},\n",
       "  mean: 0.75139, std: 0.03580, params: {'min_samples_leaf': 37, 'min_samples_split': 37}],\n",
       " {'min_samples_leaf': 2, 'min_samples_split': 2},\n",
       " 0.8480606368738046)"
      ]
     },
     "execution_count": 35,
     "metadata": {},
     "output_type": "execute_result"
    }
   ],
   "source": [
    "#再对内部节点再划分所需最小样本数min_samples_split和叶子节点最少样本数min_samples_leaf一起调参 \n",
    "param_test3= {'min_samples_split':list(range(2,40,5)), 'min_samples_leaf':list(range(2,40,5))}  \n",
    "gsearch3= GridSearchCV(estimator = RandomForestRegressor(n_estimators= best_n_estimators,\n",
    "                                                          max_depth=best_max_depth,oob_score=True, random_state=10),  \n",
    "   param_grid = param_test3,iid=False, cv=5)  \n",
    "gsearch3.fit(X,y)  \n",
    "gsearch3.grid_scores_,gsearch3.best_params_, gsearch3.best_score_ "
   ]
  },
  {
   "cell_type": "code",
   "execution_count": 38,
   "metadata": {
    "collapsed": false
   },
   "outputs": [
    {
     "data": {
      "text/plain": [
       "([mean: 0.71573, std: 0.05625, params: {'max_features': 3},\n",
       "  mean: 0.84915, std: 0.03945, params: {'max_features': 23},\n",
       "  mean: 0.85381, std: 0.03701, params: {'max_features': 43},\n",
       "  mean: 0.85389, std: 0.03515, params: {'max_features': 63},\n",
       "  mean: 0.85527, std: 0.03212, params: {'max_features': 83},\n",
       "  mean: 0.85520, std: 0.03251, params: {'max_features': 103},\n",
       "  mean: 0.85171, std: 0.03552, params: {'max_features': 123},\n",
       "  mean: 0.85113, std: 0.03283, params: {'max_features': 143},\n",
       "  mean: 0.85315, std: 0.03467, params: {'max_features': 163}],\n",
       " {'max_features': 83},\n",
       " 0.8552713745096121)"
      ]
     },
     "execution_count": 38,
     "metadata": {},
     "output_type": "execute_result"
    }
   ],
   "source": [
    "best_min_samples_leaf = gsearch3.best_params_[\"min_samples_leaf\"]\n",
    "best_min_samples_split = gsearch3.best_params_[\"min_samples_split\"]\n",
    "\n",
    "#最后我们再对最大特征数max_features做调参:  \n",
    "param_test4= {'max_features':list(range(3,int(258*2/3),20))}  \n",
    "gsearch4= GridSearchCV(estimator = RandomForestRegressor(n_estimators= best_n_estimators,\n",
    "                                                          max_depth=best_max_depth, \n",
    "                                                          min_samples_split=best_min_samples_split,  \n",
    "                                                          min_samples_leaf=best_min_samples_leaf ,\n",
    "                                                          oob_score=True, random_state=10),  \n",
    "                                                       param_grid = param_test4,iid=False, cv=5)  \n",
    "gsearch4.fit(X,y)  \n",
    "gsearch4.grid_scores_,gsearch4.best_params_, gsearch4.best_score_ "
   ]
  },
  {
   "cell_type": "code",
   "execution_count": 39,
   "metadata": {
    "collapsed": false
   },
   "outputs": [
    {
     "name": "stdout",
     "output_type": "stream",
     "text": [
      "[219500. 173000. 116500. ... 112000. 234000. 221000.]\n",
      "[223328.63663719 169143.06938412 115470.07991377 ... 127865.70642416\n",
      " 212486.35543514 215541.63036895]\n",
      "score 0.9660908464345505\n",
      "oob_score_ 0.8525970245408772\n",
      "R^2 0.9660908464345505\n",
      "均方误差 206837570.00897038\n",
      "平均绝对误差 7856.2490397675565\n"
     ]
    }
   ],
   "source": [
    "best_max_features = gsearch4.best_params_[\"max_features\"]\n",
    "\n",
    "#用我们搜索到的最佳参数，我们再看看最终的模型拟合：  \n",
    "rf2= RandomForestRegressor(n_estimators= best_n_estimators, \n",
    "                            max_depth=best_max_depth, \n",
    "                            min_samples_split=best_min_samples_split,  \n",
    "                            min_samples_leaf=best_min_samples_leaf,\n",
    "                            max_features=best_max_features ,\n",
    "                            oob_score=True, random_state=10)  \n",
    "rf2.fit(X,y) \n",
    "\n",
    "tempRf = rf2\n",
    "\n",
    "y_pred = tempRf.predict(X)\n",
    "\n",
    "print(y)\n",
    "print(y_pred)\n",
    "\n",
    "print('score',tempRf.score(X,y) )\n",
    "print('oob_score_',tempRf.oob_score_)\n",
    "\n",
    "print('R^2',metrics.r2_score(y,y_pred) )\n",
    "print('均方误差',metrics.mean_squared_error(y,y_pred) )\n",
    "print('平均绝对误差',metrics.mean_absolute_error(y,y_pred) )"
   ]
  },
  {
   "cell_type": "code",
   "execution_count": 40,
   "metadata": {
    "collapsed": false
   },
   "outputs": [
    {
     "name": "stdout",
     "output_type": "stream",
     "text": [
      "[219500. 173000. 116500. ... 112000. 234000. 221000.]\n",
      "[223360. 163200. 112650. ... 125600. 221150. 224750.]\n",
      "score 0.9678165722434093\n",
      "oob_score_ 0.7422380301707738\n",
      "R^2 0.9678165722434093\n",
      "均方误差 196311063.29103717\n",
      "平均绝对误差 8159.8009784735805\n",
      "--------------------\n",
      "[219500. 173000. 116500. ... 112000. 234000. 221000.]\n",
      "[226059.44415038 169625.38816722 118040.84711135 ... 127587.10660704\n",
      " 217768.24667566 223235.47539601]\n",
      "score 0.979648381554226\n",
      "oob_score_ 0.8520520205356128\n",
      "R^2 0.9796483815542258\n",
      "均方误差 124139910.98152237\n",
      "平均绝对误差 6786.517142229784\n",
      "--------------------\n",
      "[219500. 173000. 116500. ... 112000. 234000. 221000.]\n",
      "[223328.63663719 169143.06938412 115470.07991377 ... 127865.70642416\n",
      " 212486.35543514 215541.63036895]\n",
      "score 0.9660908464345505\n",
      "oob_score_ 0.8525970245408772\n",
      "R^2 0.9660908464345505\n",
      "均方误差 206837570.00897038\n",
      "平均绝对误差 7856.2490397675565\n",
      "--------------------\n"
     ]
    }
   ],
   "source": [
    "for rf in [rf0,rf1,rf2]:\n",
    "    tempRf = rf\n",
    "\n",
    "    y_pred = tempRf.predict(X)\n",
    "\n",
    "    print(y)\n",
    "    print(y_pred)\n",
    "\n",
    "    print('score',tempRf.score(X,y) )\n",
    "    print('oob_score_',tempRf.oob_score_)\n",
    "\n",
    "    print('R^2',metrics.r2_score(y,y_pred) )\n",
    "    print('均方误差',metrics.mean_squared_error(y,y_pred) )\n",
    "    print('平均绝对误差',metrics.mean_absolute_error(y,y_pred) )\n",
    "    \n",
    "    print('-'*20)"
   ]
  },
  {
   "cell_type": "code",
   "execution_count": 43,
   "metadata": {
    "collapsed": false
   },
   "outputs": [
    {
     "name": "stdout",
     "output_type": "stream",
     "text": [
      "(1460, 258)\n"
     ]
    }
   ],
   "source": [
    "train_all = data_train.values\n",
    "\n",
    "# y即Survival结果\n",
    "y_all = train_all[:, 0]\n",
    "\n",
    "# X即特征属性值\n",
    "X_all = train_all[:, 1:]\n",
    "\n",
    "print(X_all.shape)"
   ]
  },
  {
   "cell_type": "code",
   "execution_count": 48,
   "metadata": {
    "collapsed": false
   },
   "outputs": [
    {
     "name": "stdout",
     "output_type": "stream",
     "text": [
      "[219500. 173000. 116500. ... 112000. 234000. 221000.]\n",
      "[225572.81451843 172169.91550476 116590.08884318 ... 123589.09757928\n",
      " 211834.74305187 216632.47368111]\n",
      "score 0.9660908464345505\n",
      "oob_score_ 0.8525970245408772\n",
      "R^2 0.9726702641615431\n",
      "均方误差 166704725.87594253\n",
      "平均绝对误差 7572.081979569487\n",
      "RandomForestRegressor(bootstrap=True, criterion='mse', max_depth=13,\n",
      "           max_features=83, max_leaf_nodes=None, min_impurity_decrease=0.0,\n",
      "           min_impurity_split=None, min_samples_leaf=2,\n",
      "           min_samples_split=2, min_weight_fraction_leaf=0.0,\n",
      "           n_estimators=200, n_jobs=1, oob_score=True, random_state=10,\n",
      "           verbose=0, warm_start=False)\n"
     ]
    }
   ],
   "source": [
    "import copy\n",
    "\n",
    "rf_final = copy.copy(rf2)\n",
    "\n",
    "rf_final.fit(X_all,y_all)  \n",
    "\n",
    "showModelAbility(rf_final)\n",
    "\n",
    "print (rf_final)"
   ]
  },
  {
   "cell_type": "code",
   "execution_count": null,
   "metadata": {
    "collapsed": true
   },
   "outputs": [],
   "source": [
    "names = data_train.columns.values.tolist()[1:]\n",
    "\n",
    "for i,f in zip(rf_final.feature_importances_,names):\n",
    "    print(f,i)"
   ]
  },
  {
   "cell_type": "code",
   "execution_count": null,
   "metadata": {
    "collapsed": true
   },
   "outputs": [],
   "source": []
  },
  {
   "cell_type": "code",
   "execution_count": null,
   "metadata": {
    "collapsed": true
   },
   "outputs": [],
   "source": []
  },
  {
   "cell_type": "code",
   "execution_count": null,
   "metadata": {
    "collapsed": true
   },
   "outputs": [],
   "source": []
  },
  {
   "cell_type": "code",
   "execution_count": null,
   "metadata": {
    "collapsed": true
   },
   "outputs": [],
   "source": []
  },
  {
   "cell_type": "code",
   "execution_count": null,
   "metadata": {
    "collapsed": true
   },
   "outputs": [],
   "source": []
  },
  {
   "cell_type": "code",
   "execution_count": null,
   "metadata": {
    "collapsed": true
   },
   "outputs": [],
   "source": []
  },
  {
   "cell_type": "code",
   "execution_count": null,
   "metadata": {
    "collapsed": true
   },
   "outputs": [],
   "source": []
  },
  {
   "cell_type": "code",
   "execution_count": null,
   "metadata": {
    "collapsed": true
   },
   "outputs": [],
   "source": []
  },
  {
   "cell_type": "code",
   "execution_count": null,
   "metadata": {
    "collapsed": true
   },
   "outputs": [],
   "source": []
  }
 ],
 "metadata": {
  "kernelspec": {
   "display_name": "Python [python36]",
   "language": "python",
   "name": "Python [python36]"
  },
  "language_info": {
   "codemirror_mode": {
    "name": "ipython",
    "version": 3
   },
   "file_extension": ".py",
   "mimetype": "text/x-python",
   "name": "python",
   "nbconvert_exporter": "python",
   "pygments_lexer": "ipython3",
   "version": "3.6.4"
  }
 },
 "nbformat": 4,
 "nbformat_minor": 0
}
