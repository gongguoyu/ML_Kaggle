{
 "cells": [
  {
   "cell_type": "markdown",
   "metadata": {},
   "source": [
    "# V2"
   ]
  },
  {
   "cell_type": "markdown",
   "metadata": {},
   "source": [
    "用随机森林\n",
    "\n",
    "在V1的基础上缩减特征\n",
    "\n",
    "得分：0.14881\n",
    "\n",
    "排名：2518"
   ]
  },
  {
   "cell_type": "code",
   "execution_count": 1,
   "metadata": {
    "collapsed": false
   },
   "outputs": [
    {
     "name": "stderr",
     "output_type": "stream",
     "text": [
      "D:\\Anaconda2\\envs\\python36\\lib\\site-packages\\sklearn\\cross_validation.py:41: DeprecationWarning: This module was deprecated in version 0.18 in favor of the model_selection module into which all the refactored classes and functions are moved. Also note that the interface of the new CV iterators are different from that of this module. This module will be removed in 0.20.\n",
      "  \"This module will be removed in 0.20.\", DeprecationWarning)\n",
      "D:\\Anaconda2\\envs\\python36\\lib\\site-packages\\sklearn\\grid_search.py:42: DeprecationWarning: This module was deprecated in version 0.18 in favor of the model_selection module into which all the refactored classes and functions are moved. This module will be removed in 0.20.\n",
      "  DeprecationWarning)\n"
     ]
    }
   ],
   "source": [
    "import pickle\n",
    "\n",
    "import numpy as np\n",
    "\n",
    "from sklearn.utils import shuffle\n",
    "from sklearn.ensemble import RandomForestClassifier\n",
    "\n",
    "from sklearn import cross_validation, metrics\n",
    "from sklearn.metrics import classification_report\n",
    "\n",
    "from sklearn.grid_search import GridSearchCV \n",
    "\n",
    "import pandas as pd"
   ]
  },
  {
   "cell_type": "code",
   "execution_count": 2,
   "metadata": {
    "collapsed": false
   },
   "outputs": [
    {
     "data": {
      "text/html": [
       "<div>\n",
       "<style scoped>\n",
       "    .dataframe tbody tr th:only-of-type {\n",
       "        vertical-align: middle;\n",
       "    }\n",
       "\n",
       "    .dataframe tbody tr th {\n",
       "        vertical-align: top;\n",
       "    }\n",
       "\n",
       "    .dataframe thead th {\n",
       "        text-align: right;\n",
       "    }\n",
       "</style>\n",
       "<table border=\"1\" class=\"dataframe\">\n",
       "  <thead>\n",
       "    <tr style=\"text-align: right;\">\n",
       "      <th></th>\n",
       "      <th>SalePrices</th>\n",
       "      <th>Id</th>\n",
       "      <th>MSSubClass</th>\n",
       "      <th>LotArea</th>\n",
       "      <th>OverallQual</th>\n",
       "      <th>OverallCond</th>\n",
       "      <th>YearBuilt</th>\n",
       "      <th>YearRemodAdd</th>\n",
       "      <th>MasVnrArea</th>\n",
       "      <th>BsmtFinSF1</th>\n",
       "      <th>...</th>\n",
       "      <th>SaleType_ConLw</th>\n",
       "      <th>SaleType_New</th>\n",
       "      <th>SaleType_Oth</th>\n",
       "      <th>SaleType_WD</th>\n",
       "      <th>SaleCondition_Abnorml</th>\n",
       "      <th>SaleCondition_AdjLand</th>\n",
       "      <th>SaleCondition_Alloca</th>\n",
       "      <th>SaleCondition_Family</th>\n",
       "      <th>SaleCondition_Normal</th>\n",
       "      <th>SaleCondition_Partial</th>\n",
       "    </tr>\n",
       "  </thead>\n",
       "  <tbody>\n",
       "    <tr>\n",
       "      <th>0</th>\n",
       "      <td>208500</td>\n",
       "      <td>1</td>\n",
       "      <td>60</td>\n",
       "      <td>8450</td>\n",
       "      <td>7</td>\n",
       "      <td>5</td>\n",
       "      <td>2003</td>\n",
       "      <td>2003</td>\n",
       "      <td>196.0</td>\n",
       "      <td>706.0</td>\n",
       "      <td>...</td>\n",
       "      <td>0</td>\n",
       "      <td>0</td>\n",
       "      <td>0</td>\n",
       "      <td>1</td>\n",
       "      <td>0</td>\n",
       "      <td>0</td>\n",
       "      <td>0</td>\n",
       "      <td>0</td>\n",
       "      <td>1</td>\n",
       "      <td>0</td>\n",
       "    </tr>\n",
       "    <tr>\n",
       "      <th>1</th>\n",
       "      <td>181500</td>\n",
       "      <td>2</td>\n",
       "      <td>20</td>\n",
       "      <td>9600</td>\n",
       "      <td>6</td>\n",
       "      <td>8</td>\n",
       "      <td>1976</td>\n",
       "      <td>1976</td>\n",
       "      <td>0.0</td>\n",
       "      <td>978.0</td>\n",
       "      <td>...</td>\n",
       "      <td>0</td>\n",
       "      <td>0</td>\n",
       "      <td>0</td>\n",
       "      <td>1</td>\n",
       "      <td>0</td>\n",
       "      <td>0</td>\n",
       "      <td>0</td>\n",
       "      <td>0</td>\n",
       "      <td>1</td>\n",
       "      <td>0</td>\n",
       "    </tr>\n",
       "    <tr>\n",
       "      <th>2</th>\n",
       "      <td>223500</td>\n",
       "      <td>3</td>\n",
       "      <td>60</td>\n",
       "      <td>11250</td>\n",
       "      <td>7</td>\n",
       "      <td>5</td>\n",
       "      <td>2001</td>\n",
       "      <td>2002</td>\n",
       "      <td>162.0</td>\n",
       "      <td>486.0</td>\n",
       "      <td>...</td>\n",
       "      <td>0</td>\n",
       "      <td>0</td>\n",
       "      <td>0</td>\n",
       "      <td>1</td>\n",
       "      <td>0</td>\n",
       "      <td>0</td>\n",
       "      <td>0</td>\n",
       "      <td>0</td>\n",
       "      <td>1</td>\n",
       "      <td>0</td>\n",
       "    </tr>\n",
       "    <tr>\n",
       "      <th>3</th>\n",
       "      <td>140000</td>\n",
       "      <td>4</td>\n",
       "      <td>70</td>\n",
       "      <td>9550</td>\n",
       "      <td>7</td>\n",
       "      <td>5</td>\n",
       "      <td>1915</td>\n",
       "      <td>1970</td>\n",
       "      <td>0.0</td>\n",
       "      <td>216.0</td>\n",
       "      <td>...</td>\n",
       "      <td>0</td>\n",
       "      <td>0</td>\n",
       "      <td>0</td>\n",
       "      <td>1</td>\n",
       "      <td>1</td>\n",
       "      <td>0</td>\n",
       "      <td>0</td>\n",
       "      <td>0</td>\n",
       "      <td>0</td>\n",
       "      <td>0</td>\n",
       "    </tr>\n",
       "    <tr>\n",
       "      <th>4</th>\n",
       "      <td>250000</td>\n",
       "      <td>5</td>\n",
       "      <td>60</td>\n",
       "      <td>14260</td>\n",
       "      <td>8</td>\n",
       "      <td>5</td>\n",
       "      <td>2000</td>\n",
       "      <td>2000</td>\n",
       "      <td>350.0</td>\n",
       "      <td>655.0</td>\n",
       "      <td>...</td>\n",
       "      <td>0</td>\n",
       "      <td>0</td>\n",
       "      <td>0</td>\n",
       "      <td>1</td>\n",
       "      <td>0</td>\n",
       "      <td>0</td>\n",
       "      <td>0</td>\n",
       "      <td>0</td>\n",
       "      <td>1</td>\n",
       "      <td>0</td>\n",
       "    </tr>\n",
       "  </tbody>\n",
       "</table>\n",
       "<p>5 rows × 260 columns</p>\n",
       "</div>"
      ],
      "text/plain": [
       "   SalePrices  Id  MSSubClass  LotArea  OverallQual  OverallCond  YearBuilt  \\\n",
       "0      208500   1          60     8450            7            5       2003   \n",
       "1      181500   2          20     9600            6            8       1976   \n",
       "2      223500   3          60    11250            7            5       2001   \n",
       "3      140000   4          70     9550            7            5       1915   \n",
       "4      250000   5          60    14260            8            5       2000   \n",
       "\n",
       "   YearRemodAdd  MasVnrArea  BsmtFinSF1          ...            \\\n",
       "0          2003       196.0       706.0          ...             \n",
       "1          1976         0.0       978.0          ...             \n",
       "2          2002       162.0       486.0          ...             \n",
       "3          1970         0.0       216.0          ...             \n",
       "4          2000       350.0       655.0          ...             \n",
       "\n",
       "   SaleType_ConLw  SaleType_New  SaleType_Oth  SaleType_WD  \\\n",
       "0               0             0             0            1   \n",
       "1               0             0             0            1   \n",
       "2               0             0             0            1   \n",
       "3               0             0             0            1   \n",
       "4               0             0             0            1   \n",
       "\n",
       "   SaleCondition_Abnorml  SaleCondition_AdjLand  SaleCondition_Alloca  \\\n",
       "0                      0                      0                     0   \n",
       "1                      0                      0                     0   \n",
       "2                      0                      0                     0   \n",
       "3                      1                      0                     0   \n",
       "4                      0                      0                     0   \n",
       "\n",
       "   SaleCondition_Family  SaleCondition_Normal  SaleCondition_Partial  \n",
       "0                     0                     1                      0  \n",
       "1                     0                     1                      0  \n",
       "2                     0                     1                      0  \n",
       "3                     0                     0                      0  \n",
       "4                     0                     1                      0  \n",
       "\n",
       "[5 rows x 260 columns]"
      ]
     },
     "execution_count": 2,
     "metadata": {},
     "output_type": "execute_result"
    }
   ],
   "source": [
    "data_train,data_test = pickle.load(open(\"./datas_clean_V1.ggy\",\"rb\"))\n",
    "\n",
    "data_train.head()"
   ]
  },
  {
   "cell_type": "code",
   "execution_count": 3,
   "metadata": {
    "collapsed": false,
    "scrolled": true
   },
   "outputs": [
    {
     "name": "stdout",
     "output_type": "stream",
     "text": [
      "++++++++++++++++++++\n",
      "['SalePrices', 'Id', 'MSSubClass', 'LotArea', 'OverallQual', 'OverallCond', 'YearBuilt', 'YearRemodAdd', 'MasVnrArea', 'BsmtFinSF1', 'BsmtFinSF2', 'BsmtUnfSF', 'TotalBsmtSF', '1stFlrSF', '2ndFlrSF', 'GrLivArea', 'BsmtFullBath', 'BsmtHalfBath', 'FullBath', 'HalfBath', 'BedroomAbvGr', 'KitchenAbvGr', 'TotRmsAbvGrd', 'Fireplaces', 'GarageYrBlt', 'GarageCars', 'GarageArea', 'WoodDeckSF', 'OpenPorchSF', 'EnclosedPorch', 'MoSold', 'YrSold', 'MSZoning_C (all)', 'MSZoning_FV', 'MSZoning_RH', 'MSZoning_RL', 'MSZoning_RM', 'LotShape_IR1', 'LotShape_IR2', 'LotShape_IR3', 'LotShape_Reg', 'LandContour_Bnk', 'LandContour_HLS', 'LandContour_Low', 'LandContour_Lvl', 'LotConfig_Corner', 'LotConfig_CulDSac', 'LotConfig_FR2', 'LotConfig_FR3', 'LotConfig_Inside', 'LandSlope_Gtl', 'LandSlope_Mod', 'LandSlope_Sev', 'Neighborhood_Blmngtn', 'Neighborhood_Blueste', 'Neighborhood_BrDale', 'Neighborhood_BrkSide', 'Neighborhood_ClearCr', 'Neighborhood_CollgCr', 'Neighborhood_Crawfor', 'Neighborhood_Edwards', 'Neighborhood_Gilbert', 'Neighborhood_IDOTRR', 'Neighborhood_MeadowV', 'Neighborhood_Mitchel', 'Neighborhood_NAmes', 'Neighborhood_NPkVill', 'Neighborhood_NWAmes', 'Neighborhood_NoRidge', 'Neighborhood_NridgHt', 'Neighborhood_OldTown', 'Neighborhood_SWISU', 'Neighborhood_Sawyer', 'Neighborhood_SawyerW', 'Neighborhood_Somerst', 'Neighborhood_StoneBr', 'Neighborhood_Timber', 'Neighborhood_Veenker', 'Condition1_Artery', 'Condition1_Feedr', 'Condition1_Norm', 'Condition1_PosA', 'Condition1_PosN', 'Condition1_RRAe', 'Condition1_RRAn', 'Condition1_RRNe', 'Condition1_RRNn', 'BldgType_1Fam', 'BldgType_2fmCon', 'BldgType_Duplex', 'BldgType_Twnhs', 'BldgType_TwnhsE', 'HouseStyle_1.5Fin', 'HouseStyle_1.5Unf', 'HouseStyle_1Story', 'HouseStyle_2.5Fin', 'HouseStyle_2.5Unf', 'HouseStyle_2Story', 'HouseStyle_SFoyer', 'HouseStyle_SLvl', 'RoofStyle_Flat', 'RoofStyle_Gable', 'RoofStyle_Gambrel', 'RoofStyle_Hip', 'RoofStyle_Mansard', 'RoofStyle_Shed', 'Exterior1st_AsbShng', 'Exterior1st_AsphShn', 'Exterior1st_BrkComm', 'Exterior1st_BrkFace', 'Exterior1st_CBlock', 'Exterior1st_CemntBd', 'Exterior1st_HdBoard', 'Exterior1st_ImStucc', 'Exterior1st_MetalSd', 'Exterior1st_Plywood', 'Exterior1st_Stone', 'Exterior1st_Stucco', 'Exterior1st_VinylSd', 'Exterior1st_Wd Sdng', 'Exterior1st_WdShing', 'Exterior2nd_AsbShng', 'Exterior2nd_AsphShn', 'Exterior2nd_Brk Cmn', 'Exterior2nd_BrkFace', 'Exterior2nd_CBlock', 'Exterior2nd_CmentBd', 'Exterior2nd_HdBoard', 'Exterior2nd_ImStucc', 'Exterior2nd_MetalSd', 'Exterior2nd_Other', 'Exterior2nd_Plywood', 'Exterior2nd_Stone', 'Exterior2nd_Stucco', 'Exterior2nd_VinylSd', 'Exterior2nd_Wd Sdng', 'Exterior2nd_Wd Shng', 'MasVnrType_BrkCmn', 'MasVnrType_BrkFace', 'MasVnrType_None', 'MasVnrType_Stone', 'ExterQual_Ex', 'ExterQual_Fa', 'ExterQual_Gd', 'ExterQual_TA', 'ExterCond_Ex', 'ExterCond_Fa', 'ExterCond_Gd', 'ExterCond_Po', 'ExterCond_TA', 'Foundation_BrkTil', 'Foundation_CBlock', 'Foundation_PConc', 'Foundation_Slab', 'Foundation_Stone', 'Foundation_Wood', 'BsmtQual_Ex', 'BsmtQual_Fa', 'BsmtQual_Gd', 'BsmtQual_NAN', 'BsmtQual_TA', 'BsmtCond_Fa', 'BsmtCond_Gd', 'BsmtCond_NAN', 'BsmtCond_Po', 'BsmtCond_TA', 'BsmtExposure_Av', 'BsmtExposure_Gd', 'BsmtExposure_Mn', 'BsmtExposure_NAN', 'BsmtExposure_No', 'BsmtFinType1_ALQ', 'BsmtFinType1_BLQ', 'BsmtFinType1_GLQ', 'BsmtFinType1_LwQ', 'BsmtFinType1_NAN', 'BsmtFinType1_Rec', 'BsmtFinType1_Unf', 'BsmtFinType2_ALQ', 'BsmtFinType2_BLQ', 'BsmtFinType2_GLQ', 'BsmtFinType2_LwQ', 'BsmtFinType2_NAN', 'BsmtFinType2_Rec', 'BsmtFinType2_Unf', 'HeatingQC_Ex', 'HeatingQC_Fa', 'HeatingQC_Gd', 'HeatingQC_Po', 'HeatingQC_TA', 'CentralAir_N', 'CentralAir_Y', 'Electrical_FuseA', 'Electrical_FuseF', 'Electrical_FuseP', 'Electrical_Mix', 'Electrical_SBrkr', 'KitchenQual_Ex', 'KitchenQual_Fa', 'KitchenQual_Gd', 'KitchenQual_TA', 'Functional_Maj1', 'Functional_Maj2', 'Functional_Min1', 'Functional_Min2', 'Functional_Mod', 'Functional_Sev', 'Functional_Typ', 'FireplaceQu_Ex', 'FireplaceQu_Fa', 'FireplaceQu_Gd', 'FireplaceQu_NAN', 'FireplaceQu_Po', 'FireplaceQu_TA', 'GarageType_2Types', 'GarageType_Attchd', 'GarageType_Basment', 'GarageType_BuiltIn', 'GarageType_CarPort', 'GarageType_Detchd', 'GarageType_NAN', 'GarageFinish_Fin', 'GarageFinish_NAN', 'GarageFinish_RFn', 'GarageFinish_Unf', 'GarageQual_Ex', 'GarageQual_Fa', 'GarageQual_Gd', 'GarageQual_NAN', 'GarageQual_Po', 'GarageQual_TA', 'GarageCond_Ex', 'GarageCond_Fa', 'GarageCond_Gd', 'GarageCond_NAN', 'GarageCond_Po', 'GarageCond_TA', 'PavedDrive_N', 'PavedDrive_P', 'PavedDrive_Y', 'Fence_GdPrv', 'Fence_GdWo', 'Fence_MnPrv', 'Fence_MnWw', 'Fence_NAN', 'SaleType_COD', 'SaleType_CWD', 'SaleType_Con', 'SaleType_ConLD', 'SaleType_ConLI', 'SaleType_ConLw', 'SaleType_New', 'SaleType_Oth', 'SaleType_WD', 'SaleCondition_Abnorml', 'SaleCondition_AdjLand', 'SaleCondition_Alloca', 'SaleCondition_Family', 'SaleCondition_Normal', 'SaleCondition_Partial']\n",
      "--------------------\n",
      "['Id', 'MSSubClass', 'LotArea', 'OverallQual', 'OverallCond', 'YearBuilt', 'YearRemodAdd', 'MasVnrArea', 'BsmtFinSF1', 'BsmtFinSF2', 'BsmtUnfSF', 'TotalBsmtSF', '1stFlrSF', '2ndFlrSF', 'GrLivArea', 'BsmtFullBath', 'BsmtHalfBath', 'FullBath', 'HalfBath', 'BedroomAbvGr', 'KitchenAbvGr', 'TotRmsAbvGrd', 'Fireplaces', 'GarageYrBlt', 'GarageCars', 'GarageArea', 'WoodDeckSF', 'OpenPorchSF', 'EnclosedPorch', 'MoSold', 'YrSold', 'MSZoning_C (all)', 'MSZoning_FV', 'MSZoning_RH', 'MSZoning_RL', 'MSZoning_RM', 'LotShape_IR1', 'LotShape_IR2', 'LotShape_IR3', 'LotShape_Reg', 'LandContour_Bnk', 'LandContour_HLS', 'LandContour_Low', 'LandContour_Lvl', 'LotConfig_Corner', 'LotConfig_CulDSac', 'LotConfig_FR2', 'LotConfig_FR3', 'LotConfig_Inside', 'LandSlope_Gtl', 'LandSlope_Mod', 'LandSlope_Sev', 'Neighborhood_Blmngtn', 'Neighborhood_Blueste', 'Neighborhood_BrDale', 'Neighborhood_BrkSide', 'Neighborhood_ClearCr', 'Neighborhood_CollgCr', 'Neighborhood_Crawfor', 'Neighborhood_Edwards', 'Neighborhood_Gilbert', 'Neighborhood_IDOTRR', 'Neighborhood_MeadowV', 'Neighborhood_Mitchel', 'Neighborhood_NAmes', 'Neighborhood_NPkVill', 'Neighborhood_NWAmes', 'Neighborhood_NoRidge', 'Neighborhood_NridgHt', 'Neighborhood_OldTown', 'Neighborhood_SWISU', 'Neighborhood_Sawyer', 'Neighborhood_SawyerW', 'Neighborhood_Somerst', 'Neighborhood_StoneBr', 'Neighborhood_Timber', 'Neighborhood_Veenker', 'Condition1_Artery', 'Condition1_Feedr', 'Condition1_Norm', 'Condition1_PosA', 'Condition1_PosN', 'Condition1_RRAe', 'Condition1_RRAn', 'Condition1_RRNe', 'Condition1_RRNn', 'BldgType_1Fam', 'BldgType_2fmCon', 'BldgType_Duplex', 'BldgType_Twnhs', 'BldgType_TwnhsE', 'HouseStyle_1.5Fin', 'HouseStyle_1.5Unf', 'HouseStyle_1Story', 'HouseStyle_2.5Fin', 'HouseStyle_2.5Unf', 'HouseStyle_2Story', 'HouseStyle_SFoyer', 'HouseStyle_SLvl', 'RoofStyle_Flat', 'RoofStyle_Gable', 'RoofStyle_Gambrel', 'RoofStyle_Hip', 'RoofStyle_Mansard', 'RoofStyle_Shed', 'Exterior1st_AsbShng', 'Exterior1st_AsphShn', 'Exterior1st_BrkComm', 'Exterior1st_BrkFace', 'Exterior1st_CBlock', 'Exterior1st_CemntBd', 'Exterior1st_HdBoard', 'Exterior1st_ImStucc', 'Exterior1st_MetalSd', 'Exterior1st_Plywood', 'Exterior1st_Stone', 'Exterior1st_Stucco', 'Exterior1st_VinylSd', 'Exterior1st_Wd Sdng', 'Exterior1st_WdShing', 'Exterior2nd_AsbShng', 'Exterior2nd_AsphShn', 'Exterior2nd_Brk Cmn', 'Exterior2nd_BrkFace', 'Exterior2nd_CBlock', 'Exterior2nd_CmentBd', 'Exterior2nd_HdBoard', 'Exterior2nd_ImStucc', 'Exterior2nd_MetalSd', 'Exterior2nd_Other', 'Exterior2nd_Plywood', 'Exterior2nd_Stone', 'Exterior2nd_Stucco', 'Exterior2nd_VinylSd', 'Exterior2nd_Wd Sdng', 'Exterior2nd_Wd Shng', 'MasVnrType_BrkCmn', 'MasVnrType_BrkFace', 'MasVnrType_None', 'MasVnrType_Stone', 'ExterQual_Ex', 'ExterQual_Fa', 'ExterQual_Gd', 'ExterQual_TA', 'ExterCond_Ex', 'ExterCond_Fa', 'ExterCond_Gd', 'ExterCond_Po', 'ExterCond_TA', 'Foundation_BrkTil', 'Foundation_CBlock', 'Foundation_PConc', 'Foundation_Slab', 'Foundation_Stone', 'Foundation_Wood', 'BsmtQual_Ex', 'BsmtQual_Fa', 'BsmtQual_Gd', 'BsmtQual_NAN', 'BsmtQual_TA', 'BsmtCond_Fa', 'BsmtCond_Gd', 'BsmtCond_NAN', 'BsmtCond_Po', 'BsmtCond_TA', 'BsmtExposure_Av', 'BsmtExposure_Gd', 'BsmtExposure_Mn', 'BsmtExposure_NAN', 'BsmtExposure_No', 'BsmtFinType1_ALQ', 'BsmtFinType1_BLQ', 'BsmtFinType1_GLQ', 'BsmtFinType1_LwQ', 'BsmtFinType1_NAN', 'BsmtFinType1_Rec', 'BsmtFinType1_Unf', 'BsmtFinType2_ALQ', 'BsmtFinType2_BLQ', 'BsmtFinType2_GLQ', 'BsmtFinType2_LwQ', 'BsmtFinType2_NAN', 'BsmtFinType2_Rec', 'BsmtFinType2_Unf', 'HeatingQC_Ex', 'HeatingQC_Fa', 'HeatingQC_Gd', 'HeatingQC_Po', 'HeatingQC_TA', 'CentralAir_N', 'CentralAir_Y', 'Electrical_FuseA', 'Electrical_FuseF', 'Electrical_FuseP', 'Electrical_Mix', 'Electrical_SBrkr', 'KitchenQual_Ex', 'KitchenQual_Fa', 'KitchenQual_Gd', 'KitchenQual_TA', 'Functional_Maj1', 'Functional_Maj2', 'Functional_Min1', 'Functional_Min2', 'Functional_Mod', 'Functional_Sev', 'Functional_Typ', 'FireplaceQu_Ex', 'FireplaceQu_Fa', 'FireplaceQu_Gd', 'FireplaceQu_NAN', 'FireplaceQu_Po', 'FireplaceQu_TA', 'GarageType_2Types', 'GarageType_Attchd', 'GarageType_Basment', 'GarageType_BuiltIn', 'GarageType_CarPort', 'GarageType_Detchd', 'GarageType_NAN', 'GarageFinish_Fin', 'GarageFinish_NAN', 'GarageFinish_RFn', 'GarageFinish_Unf', 'GarageQual_Ex', 'GarageQual_Fa', 'GarageQual_Gd', 'GarageQual_NAN', 'GarageQual_Po', 'GarageQual_TA', 'GarageCond_Ex', 'GarageCond_Fa', 'GarageCond_Gd', 'GarageCond_NAN', 'GarageCond_Po', 'GarageCond_TA', 'PavedDrive_N', 'PavedDrive_P', 'PavedDrive_Y', 'Fence_GdPrv', 'Fence_GdWo', 'Fence_MnPrv', 'Fence_MnWw', 'Fence_NAN', 'SaleType_COD', 'SaleType_CWD', 'SaleType_Con', 'SaleType_ConLD', 'SaleType_ConLI', 'SaleType_ConLw', 'SaleType_New', 'SaleType_Oth', 'SaleType_WD', 'SaleCondition_Abnorml', 'SaleCondition_AdjLand', 'SaleCondition_Alloca', 'SaleCondition_Family', 'SaleCondition_Normal', 'SaleCondition_Partial']\n",
      "++++++++++++++++++++\n",
      "<class 'pandas.core.frame.DataFrame'>\n",
      "Int64Index: 1460 entries, 0 to 1459\n",
      "Columns: 260 entries, SalePrices to SaleCondition_Partial\n",
      "dtypes: float64(10), int64(22), uint8(228)\n",
      "memory usage: 701.5 KB\n",
      "--------------------\n",
      "<class 'pandas.core.frame.DataFrame'>\n",
      "Int64Index: 1459 entries, 0 to 1458\n",
      "Columns: 259 entries, Id to SaleCondition_Partial\n",
      "dtypes: float64(10), int64(21), uint8(228)\n",
      "memory usage: 689.6 KB\n",
      "++++++++++++++++++++\n"
     ]
    }
   ],
   "source": [
    "def showColums():\n",
    "    \n",
    "    print('+'*20)\n",
    "    \n",
    "    print(data_train.columns.values.tolist())\n",
    "    print('-'*20)\n",
    "    print(data_test.columns.values.tolist())\n",
    "\n",
    "    print('+'*20)\n",
    "    \n",
    "    data_train.info()\n",
    "    print('-'*20)\n",
    "    data_test.info()\n",
    "    \n",
    "    print('+'*20)\n",
    "    \n",
    "showColums()"
   ]
  },
  {
   "cell_type": "code",
   "execution_count": 4,
   "metadata": {
    "collapsed": false
   },
   "outputs": [
    {
     "name": "stdout",
     "output_type": "stream",
     "text": [
      "RandomForestRegressor(bootstrap=True, criterion='mse', max_depth=13,\n",
      "           max_features='auto', max_leaf_nodes=None,\n",
      "           min_impurity_decrease=0.0, min_impurity_split=None,\n",
      "           min_samples_leaf=1, min_samples_split=2,\n",
      "           min_weight_fraction_leaf=0.0, n_estimators=200, n_jobs=1,\n",
      "           oob_score=True, random_state=10, verbose=0, warm_start=False)\n"
     ]
    }
   ],
   "source": [
    "calc_v1 = pickle.load(open(\"./calc_V1.ggy\",\"rb\"))\n",
    "print(calc_v1)"
   ]
  },
  {
   "cell_type": "code",
   "execution_count": 5,
   "metadata": {
    "collapsed": false
   },
   "outputs": [
    {
     "data": {
      "text/html": [
       "<div>\n",
       "<style scoped>\n",
       "    .dataframe tbody tr th:only-of-type {\n",
       "        vertical-align: middle;\n",
       "    }\n",
       "\n",
       "    .dataframe tbody tr th {\n",
       "        vertical-align: top;\n",
       "    }\n",
       "\n",
       "    .dataframe thead th {\n",
       "        text-align: right;\n",
       "    }\n",
       "</style>\n",
       "<table border=\"1\" class=\"dataframe\">\n",
       "  <thead>\n",
       "    <tr style=\"text-align: right;\">\n",
       "      <th></th>\n",
       "      <th>ColName</th>\n",
       "      <th>value</th>\n",
       "    </tr>\n",
       "  </thead>\n",
       "  <tbody>\n",
       "    <tr>\n",
       "      <th>0</th>\n",
       "      <td>MSSubClass</td>\n",
       "      <td>0.001367</td>\n",
       "    </tr>\n",
       "    <tr>\n",
       "      <th>1</th>\n",
       "      <td>LotArea</td>\n",
       "      <td>0.013232</td>\n",
       "    </tr>\n",
       "    <tr>\n",
       "      <th>2</th>\n",
       "      <td>OverallQual</td>\n",
       "      <td>0.594742</td>\n",
       "    </tr>\n",
       "    <tr>\n",
       "      <th>3</th>\n",
       "      <td>OverallCond</td>\n",
       "      <td>0.004294</td>\n",
       "    </tr>\n",
       "    <tr>\n",
       "      <th>4</th>\n",
       "      <td>YearBuilt</td>\n",
       "      <td>0.009903</td>\n",
       "    </tr>\n",
       "  </tbody>\n",
       "</table>\n",
       "</div>"
      ],
      "text/plain": [
       "       ColName     value\n",
       "0   MSSubClass  0.001367\n",
       "1      LotArea  0.013232\n",
       "2  OverallQual  0.594742\n",
       "3  OverallCond  0.004294\n",
       "4    YearBuilt  0.009903"
      ]
     },
     "execution_count": 5,
     "metadata": {},
     "output_type": "execute_result"
    }
   ],
   "source": [
    "names = data_train.columns.values.tolist()[2:]\n",
    "\n",
    "results = pd.DataFrame({\"ColName\":names,\"value\":calc_v1.feature_importances_})\n",
    "\n",
    "results.head()"
   ]
  },
  {
   "cell_type": "code",
   "execution_count": 12,
   "metadata": {
    "collapsed": false
   },
   "outputs": [
    {
     "name": "stdout",
     "output_type": "stream",
     "text": [
      "['OverallQual' 'GrLivArea' '2ndFlrSF' 'TotalBsmtSF' 'BsmtFinSF1'\n",
      " '1stFlrSF' 'GarageCars' 'GarageArea' 'LotArea' 'YearBuilt' 'FullBath'\n",
      " 'YearRemodAdd' 'TotRmsAbvGrd' 'WoodDeckSF' 'MasVnrArea' 'GarageYrBlt'\n",
      " 'BsmtUnfSF' 'OpenPorchSF' 'OverallCond' 'BsmtQual_Ex' 'MoSold'\n",
      " 'GarageType_Detchd' 'BsmtQual_Gd' 'Fireplaces' 'GarageType_Attchd'\n",
      " 'MSZoning_RM' 'BedroomAbvGr' 'KitchenQual_Gd' 'YrSold' 'CentralAir_N']\n"
     ]
    },
    {
     "data": {
      "text/html": [
       "<div>\n",
       "<style scoped>\n",
       "    .dataframe tbody tr th:only-of-type {\n",
       "        vertical-align: middle;\n",
       "    }\n",
       "\n",
       "    .dataframe tbody tr th {\n",
       "        vertical-align: top;\n",
       "    }\n",
       "\n",
       "    .dataframe thead th {\n",
       "        text-align: right;\n",
       "    }\n",
       "</style>\n",
       "<table border=\"1\" class=\"dataframe\">\n",
       "  <thead>\n",
       "    <tr style=\"text-align: right;\">\n",
       "      <th></th>\n",
       "      <th>ColName</th>\n",
       "      <th>value</th>\n",
       "    </tr>\n",
       "  </thead>\n",
       "  <tbody>\n",
       "    <tr>\n",
       "      <th>2</th>\n",
       "      <td>OverallQual</td>\n",
       "      <td>0.594742</td>\n",
       "    </tr>\n",
       "    <tr>\n",
       "      <th>13</th>\n",
       "      <td>GrLivArea</td>\n",
       "      <td>0.107347</td>\n",
       "    </tr>\n",
       "    <tr>\n",
       "      <th>12</th>\n",
       "      <td>2ndFlrSF</td>\n",
       "      <td>0.039352</td>\n",
       "    </tr>\n",
       "    <tr>\n",
       "      <th>10</th>\n",
       "      <td>TotalBsmtSF</td>\n",
       "      <td>0.039222</td>\n",
       "    </tr>\n",
       "    <tr>\n",
       "      <th>7</th>\n",
       "      <td>BsmtFinSF1</td>\n",
       "      <td>0.026742</td>\n",
       "    </tr>\n",
       "    <tr>\n",
       "      <th>11</th>\n",
       "      <td>1stFlrSF</td>\n",
       "      <td>0.023245</td>\n",
       "    </tr>\n",
       "    <tr>\n",
       "      <th>23</th>\n",
       "      <td>GarageCars</td>\n",
       "      <td>0.014537</td>\n",
       "    </tr>\n",
       "    <tr>\n",
       "      <th>24</th>\n",
       "      <td>GarageArea</td>\n",
       "      <td>0.013316</td>\n",
       "    </tr>\n",
       "    <tr>\n",
       "      <th>1</th>\n",
       "      <td>LotArea</td>\n",
       "      <td>0.013232</td>\n",
       "    </tr>\n",
       "    <tr>\n",
       "      <th>4</th>\n",
       "      <td>YearBuilt</td>\n",
       "      <td>0.009903</td>\n",
       "    </tr>\n",
       "    <tr>\n",
       "      <th>16</th>\n",
       "      <td>FullBath</td>\n",
       "      <td>0.006368</td>\n",
       "    </tr>\n",
       "    <tr>\n",
       "      <th>5</th>\n",
       "      <td>YearRemodAdd</td>\n",
       "      <td>0.006198</td>\n",
       "    </tr>\n",
       "    <tr>\n",
       "      <th>20</th>\n",
       "      <td>TotRmsAbvGrd</td>\n",
       "      <td>0.005963</td>\n",
       "    </tr>\n",
       "    <tr>\n",
       "      <th>25</th>\n",
       "      <td>WoodDeckSF</td>\n",
       "      <td>0.004857</td>\n",
       "    </tr>\n",
       "    <tr>\n",
       "      <th>6</th>\n",
       "      <td>MasVnrArea</td>\n",
       "      <td>0.004674</td>\n",
       "    </tr>\n",
       "    <tr>\n",
       "      <th>22</th>\n",
       "      <td>GarageYrBlt</td>\n",
       "      <td>0.004641</td>\n",
       "    </tr>\n",
       "    <tr>\n",
       "      <th>9</th>\n",
       "      <td>BsmtUnfSF</td>\n",
       "      <td>0.004562</td>\n",
       "    </tr>\n",
       "    <tr>\n",
       "      <th>26</th>\n",
       "      <td>OpenPorchSF</td>\n",
       "      <td>0.004427</td>\n",
       "    </tr>\n",
       "    <tr>\n",
       "      <th>3</th>\n",
       "      <td>OverallCond</td>\n",
       "      <td>0.004294</td>\n",
       "    </tr>\n",
       "    <tr>\n",
       "      <th>154</th>\n",
       "      <td>BsmtQual_Ex</td>\n",
       "      <td>0.003891</td>\n",
       "    </tr>\n",
       "    <tr>\n",
       "      <th>28</th>\n",
       "      <td>MoSold</td>\n",
       "      <td>0.003352</td>\n",
       "    </tr>\n",
       "    <tr>\n",
       "      <th>217</th>\n",
       "      <td>GarageType_Detchd</td>\n",
       "      <td>0.002443</td>\n",
       "    </tr>\n",
       "    <tr>\n",
       "      <th>156</th>\n",
       "      <td>BsmtQual_Gd</td>\n",
       "      <td>0.002251</td>\n",
       "    </tr>\n",
       "    <tr>\n",
       "      <th>21</th>\n",
       "      <td>Fireplaces</td>\n",
       "      <td>0.002027</td>\n",
       "    </tr>\n",
       "    <tr>\n",
       "      <th>213</th>\n",
       "      <td>GarageType_Attchd</td>\n",
       "      <td>0.001820</td>\n",
       "    </tr>\n",
       "    <tr>\n",
       "      <th>34</th>\n",
       "      <td>MSZoning_RM</td>\n",
       "      <td>0.001738</td>\n",
       "    </tr>\n",
       "    <tr>\n",
       "      <th>18</th>\n",
       "      <td>BedroomAbvGr</td>\n",
       "      <td>0.001599</td>\n",
       "    </tr>\n",
       "    <tr>\n",
       "      <th>197</th>\n",
       "      <td>KitchenQual_Gd</td>\n",
       "      <td>0.001537</td>\n",
       "    </tr>\n",
       "    <tr>\n",
       "      <th>29</th>\n",
       "      <td>YrSold</td>\n",
       "      <td>0.001459</td>\n",
       "    </tr>\n",
       "    <tr>\n",
       "      <th>188</th>\n",
       "      <td>CentralAir_N</td>\n",
       "      <td>0.001429</td>\n",
       "    </tr>\n",
       "  </tbody>\n",
       "</table>\n",
       "</div>"
      ],
      "text/plain": [
       "               ColName     value\n",
       "2          OverallQual  0.594742\n",
       "13           GrLivArea  0.107347\n",
       "12            2ndFlrSF  0.039352\n",
       "10         TotalBsmtSF  0.039222\n",
       "7           BsmtFinSF1  0.026742\n",
       "11            1stFlrSF  0.023245\n",
       "23          GarageCars  0.014537\n",
       "24          GarageArea  0.013316\n",
       "1              LotArea  0.013232\n",
       "4            YearBuilt  0.009903\n",
       "16            FullBath  0.006368\n",
       "5         YearRemodAdd  0.006198\n",
       "20        TotRmsAbvGrd  0.005963\n",
       "25          WoodDeckSF  0.004857\n",
       "6           MasVnrArea  0.004674\n",
       "22         GarageYrBlt  0.004641\n",
       "9            BsmtUnfSF  0.004562\n",
       "26         OpenPorchSF  0.004427\n",
       "3          OverallCond  0.004294\n",
       "154        BsmtQual_Ex  0.003891\n",
       "28              MoSold  0.003352\n",
       "217  GarageType_Detchd  0.002443\n",
       "156        BsmtQual_Gd  0.002251\n",
       "21          Fireplaces  0.002027\n",
       "213  GarageType_Attchd  0.001820\n",
       "34         MSZoning_RM  0.001738\n",
       "18        BedroomAbvGr  0.001599\n",
       "197     KitchenQual_Gd  0.001537\n",
       "29              YrSold  0.001459\n",
       "188       CentralAir_N  0.001429"
      ]
     },
     "execution_count": 12,
     "metadata": {},
     "output_type": "execute_result"
    }
   ],
   "source": [
    "results =results.sort_values(\"value\",ascending =False)\n",
    "\n",
    "columns = results[\"ColName\"].values[:30]\n",
    "print(columns)\n",
    "\n",
    "results.head(30)"
   ]
  },
  {
   "cell_type": "code",
   "execution_count": 14,
   "metadata": {
    "collapsed": false
   },
   "outputs": [
    {
     "name": "stdout",
     "output_type": "stream",
     "text": [
      "(1022, 30) (1022,)\n",
      "(438, 30) (438,)\n"
     ]
    }
   ],
   "source": [
    "from sklearn import cross_validation\n",
    "\n",
    "split_train, split_cv = cross_validation.train_test_split(data_train, test_size=0.3, random_state=0)\n",
    "\n",
    "# y即Survival结果\n",
    "y = split_train[\"SalePrices\"].values\n",
    "\n",
    "# X即特征属性值\n",
    "X = split_train[columns].values\n",
    "\n",
    "print(X.shape,y.shape)\n",
    "\n",
    "\n",
    "# y即Survival结果\n",
    "y_v = split_cv[\"SalePrices\"].values\n",
    "\n",
    "# X即特征属性值\n",
    "X_v = split_cv[columns].values\n",
    "\n",
    "print(X_v.shape,y_v.shape)\n",
    "#print(split_cv.info())"
   ]
  },
  {
   "cell_type": "code",
   "execution_count": 15,
   "metadata": {
    "collapsed": true
   },
   "outputs": [],
   "source": [
    "def showModelAbility(rf,X=X,y=y):\n",
    "    \n",
    "    y_pred = rf.predict(X)\n",
    "\n",
    "    print(y)\n",
    "    print(y_pred)\n",
    "\n",
    "    print('score',rf.score(X,y) )\n",
    "    print('oob_score_',rf.oob_score_)\n",
    "\n",
    "    print('R^2',metrics.r2_score(y,y_pred) )\n",
    "    print('均方误差',metrics.mean_squared_error(y,y_pred) )\n",
    "    print('平均绝对误差',metrics.mean_absolute_error(y,y_pred) )"
   ]
  },
  {
   "cell_type": "code",
   "execution_count": 16,
   "metadata": {
    "collapsed": false
   },
   "outputs": [
    {
     "name": "stdout",
     "output_type": "stream",
     "text": [
      "[219500 173000 116500 ... 112000 234000 221000]\n",
      "[233820. 174630. 115000. ... 123600. 218000. 215450.]\n",
      "score 0.9690102533011052\n",
      "oob_score_ 0.7365336848277699\n",
      "R^2 0.9690102533011052\n",
      "均方误差 189029899.8475734\n",
      "平均绝对误差 8120.4931506849325\n"
     ]
    },
    {
     "name": "stderr",
     "output_type": "stream",
     "text": [
      "D:\\Anaconda2\\envs\\python36\\lib\\site-packages\\sklearn\\ensemble\\forest.py:724: UserWarning: Some inputs do not have OOB scores. This probably means too few trees were used to compute any reliable oob estimates.\n",
      "  warn(\"Some inputs do not have OOB scores. \"\n"
     ]
    }
   ],
   "source": [
    "from sklearn.ensemble import RandomForestRegressor\n",
    "from sklearn import cross_validation, metrics\n",
    "\n",
    "rf0 = RandomForestRegressor(oob_score=True, random_state=10)  \n",
    "rf0.fit(X,y)  \n",
    "\n",
    "\n",
    "showModelAbility(rf0)"
   ]
  },
  {
   "cell_type": "code",
   "execution_count": 17,
   "metadata": {
    "collapsed": false
   },
   "outputs": [
    {
     "name": "stderr",
     "output_type": "stream",
     "text": [
      "D:\\Anaconda2\\envs\\python36\\lib\\site-packages\\sklearn\\ensemble\\forest.py:724: UserWarning: Some inputs do not have OOB scores. This probably means too few trees were used to compute any reliable oob estimates.\n",
      "  warn(\"Some inputs do not have OOB scores. \"\n",
      "D:\\Anaconda2\\envs\\python36\\lib\\site-packages\\sklearn\\ensemble\\forest.py:724: UserWarning: Some inputs do not have OOB scores. This probably means too few trees were used to compute any reliable oob estimates.\n",
      "  warn(\"Some inputs do not have OOB scores. \"\n",
      "D:\\Anaconda2\\envs\\python36\\lib\\site-packages\\sklearn\\ensemble\\forest.py:724: UserWarning: Some inputs do not have OOB scores. This probably means too few trees were used to compute any reliable oob estimates.\n",
      "  warn(\"Some inputs do not have OOB scores. \"\n",
      "D:\\Anaconda2\\envs\\python36\\lib\\site-packages\\sklearn\\ensemble\\forest.py:724: UserWarning: Some inputs do not have OOB scores. This probably means too few trees were used to compute any reliable oob estimates.\n",
      "  warn(\"Some inputs do not have OOB scores. \"\n",
      "D:\\Anaconda2\\envs\\python36\\lib\\site-packages\\sklearn\\ensemble\\forest.py:724: UserWarning: Some inputs do not have OOB scores. This probably means too few trees were used to compute any reliable oob estimates.\n",
      "  warn(\"Some inputs do not have OOB scores. \"\n"
     ]
    },
    {
     "data": {
      "text/plain": [
       "([mean: 0.82374, std: 0.03220, params: {'n_estimators': 10},\n",
       "  mean: 0.84186, std: 0.03499, params: {'n_estimators': 20},\n",
       "  mean: 0.84171, std: 0.03214, params: {'n_estimators': 30},\n",
       "  mean: 0.84186, std: 0.03289, params: {'n_estimators': 40},\n",
       "  mean: 0.84615, std: 0.03251, params: {'n_estimators': 50},\n",
       "  mean: 0.84593, std: 0.03088, params: {'n_estimators': 60},\n",
       "  mean: 0.84902, std: 0.03040, params: {'n_estimators': 70},\n",
       "  mean: 0.84997, std: 0.03015, params: {'n_estimators': 80},\n",
       "  mean: 0.85043, std: 0.02820, params: {'n_estimators': 90},\n",
       "  mean: 0.85082, std: 0.02824, params: {'n_estimators': 100},\n",
       "  mean: 0.85244, std: 0.02824, params: {'n_estimators': 110},\n",
       "  mean: 0.85149, std: 0.02941, params: {'n_estimators': 120},\n",
       "  mean: 0.85119, std: 0.03117, params: {'n_estimators': 130},\n",
       "  mean: 0.85124, std: 0.03073, params: {'n_estimators': 140},\n",
       "  mean: 0.85120, std: 0.03162, params: {'n_estimators': 150},\n",
       "  mean: 0.85165, std: 0.03116, params: {'n_estimators': 160},\n",
       "  mean: 0.85262, std: 0.03067, params: {'n_estimators': 170},\n",
       "  mean: 0.85302, std: 0.03100, params: {'n_estimators': 180},\n",
       "  mean: 0.85307, std: 0.03124, params: {'n_estimators': 190},\n",
       "  mean: 0.85316, std: 0.03102, params: {'n_estimators': 200}],\n",
       " {'n_estimators': 200},\n",
       " 0.8531587504022563)"
      ]
     },
     "execution_count": 17,
     "metadata": {},
     "output_type": "execute_result"
    }
   ],
   "source": [
    "from sklearn.grid_search import GridSearchCV \n",
    "\n",
    "\n",
    "#首先对n_estimators进行网格搜索  \n",
    "param_test1= {'n_estimators':list(range(10,201,10))}  \n",
    "gsearch1= GridSearchCV(estimator = RandomForestRegressor(oob_score=True,random_state=10),  \n",
    "                       param_grid =param_test1,cv=5)  \n",
    "gsearch1.fit(X,y)  \n",
    "gsearch1.grid_scores_,gsearch1.best_params_, gsearch1.best_score_ "
   ]
  },
  {
   "cell_type": "code",
   "execution_count": 18,
   "metadata": {
    "collapsed": false,
    "scrolled": true
   },
   "outputs": [
    {
     "data": {
      "text/plain": [
       "([mean: 0.75624, std: 0.02629, params: {'max_depth': 3, 'min_samples_split': 2},\n",
       "  mean: 0.75557, std: 0.02694, params: {'max_depth': 3, 'min_samples_split': 7},\n",
       "  mean: 0.75603, std: 0.02653, params: {'max_depth': 3, 'min_samples_split': 12},\n",
       "  mean: 0.75668, std: 0.02495, params: {'max_depth': 3, 'min_samples_split': 17},\n",
       "  mean: 0.75595, std: 0.02403, params: {'max_depth': 3, 'min_samples_split': 22},\n",
       "  mean: 0.75527, std: 0.02401, params: {'max_depth': 3, 'min_samples_split': 27},\n",
       "  mean: 0.75410, std: 0.02440, params: {'max_depth': 3, 'min_samples_split': 32},\n",
       "  mean: 0.75202, std: 0.02410, params: {'max_depth': 3, 'min_samples_split': 37},\n",
       "  mean: 0.75130, std: 0.02397, params: {'max_depth': 3, 'min_samples_split': 42},\n",
       "  mean: 0.75037, std: 0.02362, params: {'max_depth': 3, 'min_samples_split': 47},\n",
       "  mean: 0.82077, std: 0.03261, params: {'max_depth': 5, 'min_samples_split': 2},\n",
       "  mean: 0.82254, std: 0.02726, params: {'max_depth': 5, 'min_samples_split': 7},\n",
       "  mean: 0.82055, std: 0.02644, params: {'max_depth': 5, 'min_samples_split': 12},\n",
       "  mean: 0.82062, std: 0.02424, params: {'max_depth': 5, 'min_samples_split': 17},\n",
       "  mean: 0.81645, std: 0.02369, params: {'max_depth': 5, 'min_samples_split': 22},\n",
       "  mean: 0.81356, std: 0.02436, params: {'max_depth': 5, 'min_samples_split': 27},\n",
       "  mean: 0.81105, std: 0.02432, params: {'max_depth': 5, 'min_samples_split': 32},\n",
       "  mean: 0.80668, std: 0.02433, params: {'max_depth': 5, 'min_samples_split': 37},\n",
       "  mean: 0.80340, std: 0.02382, params: {'max_depth': 5, 'min_samples_split': 42},\n",
       "  mean: 0.79999, std: 0.02307, params: {'max_depth': 5, 'min_samples_split': 47},\n",
       "  mean: 0.84236, std: 0.03026, params: {'max_depth': 7, 'min_samples_split': 2},\n",
       "  mean: 0.84270, std: 0.02824, params: {'max_depth': 7, 'min_samples_split': 7},\n",
       "  mean: 0.83968, std: 0.02686, params: {'max_depth': 7, 'min_samples_split': 12},\n",
       "  mean: 0.83660, std: 0.02456, params: {'max_depth': 7, 'min_samples_split': 17},\n",
       "  mean: 0.83150, std: 0.02384, params: {'max_depth': 7, 'min_samples_split': 22},\n",
       "  mean: 0.82751, std: 0.02401, params: {'max_depth': 7, 'min_samples_split': 27},\n",
       "  mean: 0.82262, std: 0.02556, params: {'max_depth': 7, 'min_samples_split': 32},\n",
       "  mean: 0.81606, std: 0.02658, params: {'max_depth': 7, 'min_samples_split': 37},\n",
       "  mean: 0.81210, std: 0.02541, params: {'max_depth': 7, 'min_samples_split': 42},\n",
       "  mean: 0.80690, std: 0.02505, params: {'max_depth': 7, 'min_samples_split': 47},\n",
       "  mean: 0.84931, std: 0.03156, params: {'max_depth': 9, 'min_samples_split': 2},\n",
       "  mean: 0.84774, std: 0.02948, params: {'max_depth': 9, 'min_samples_split': 7},\n",
       "  mean: 0.84512, std: 0.02559, params: {'max_depth': 9, 'min_samples_split': 12},\n",
       "  mean: 0.84101, std: 0.02281, params: {'max_depth': 9, 'min_samples_split': 17},\n",
       "  mean: 0.83392, std: 0.02479, params: {'max_depth': 9, 'min_samples_split': 22},\n",
       "  mean: 0.82770, std: 0.02746, params: {'max_depth': 9, 'min_samples_split': 27},\n",
       "  mean: 0.82351, std: 0.02678, params: {'max_depth': 9, 'min_samples_split': 32},\n",
       "  mean: 0.81751, std: 0.02688, params: {'max_depth': 9, 'min_samples_split': 37},\n",
       "  mean: 0.81281, std: 0.02573, params: {'max_depth': 9, 'min_samples_split': 42},\n",
       "  mean: 0.80742, std: 0.02563, params: {'max_depth': 9, 'min_samples_split': 47},\n",
       "  mean: 0.85110, std: 0.03239, params: {'max_depth': 11, 'min_samples_split': 2},\n",
       "  mean: 0.84826, std: 0.02861, params: {'max_depth': 11, 'min_samples_split': 7},\n",
       "  mean: 0.84450, std: 0.02634, params: {'max_depth': 11, 'min_samples_split': 12},\n",
       "  mean: 0.84156, std: 0.02461, params: {'max_depth': 11, 'min_samples_split': 17},\n",
       "  mean: 0.83382, std: 0.02580, params: {'max_depth': 11, 'min_samples_split': 22},\n",
       "  mean: 0.83020, std: 0.02521, params: {'max_depth': 11, 'min_samples_split': 27},\n",
       "  mean: 0.82241, std: 0.02850, params: {'max_depth': 11, 'min_samples_split': 32},\n",
       "  mean: 0.81912, std: 0.02560, params: {'max_depth': 11, 'min_samples_split': 37},\n",
       "  mean: 0.81274, std: 0.02607, params: {'max_depth': 11, 'min_samples_split': 42},\n",
       "  mean: 0.80811, std: 0.02513, params: {'max_depth': 11, 'min_samples_split': 47},\n",
       "  mean: 0.85094, std: 0.03076, params: {'max_depth': 13, 'min_samples_split': 2},\n",
       "  mean: 0.84947, std: 0.02879, params: {'max_depth': 13, 'min_samples_split': 7},\n",
       "  mean: 0.84583, std: 0.02645, params: {'max_depth': 13, 'min_samples_split': 12},\n",
       "  mean: 0.84059, std: 0.02492, params: {'max_depth': 13, 'min_samples_split': 17},\n",
       "  mean: 0.83499, std: 0.02472, params: {'max_depth': 13, 'min_samples_split': 22},\n",
       "  mean: 0.82993, std: 0.02561, params: {'max_depth': 13, 'min_samples_split': 27},\n",
       "  mean: 0.82291, std: 0.02797, params: {'max_depth': 13, 'min_samples_split': 32},\n",
       "  mean: 0.81934, std: 0.02543, params: {'max_depth': 13, 'min_samples_split': 37},\n",
       "  mean: 0.81296, std: 0.02586, params: {'max_depth': 13, 'min_samples_split': 42},\n",
       "  mean: 0.80811, std: 0.02513, params: {'max_depth': 13, 'min_samples_split': 47}],\n",
       " {'max_depth': 11, 'min_samples_split': 2},\n",
       " 0.8511014008336444)"
      ]
     },
     "execution_count": 18,
     "metadata": {},
     "output_type": "execute_result"
    }
   ],
   "source": [
    "best_n_estimators = gsearch1.best_params_[\"n_estimators\"]\n",
    "\n",
    "param_test2= {'max_depth':list(range(3,14,2)), 'min_samples_split':list(range(2,50,5))}  \n",
    "gsearch2= GridSearchCV(estimator = RandomForestRegressor(n_estimators= best_n_estimators,oob_score=True,random_state=10),  \n",
    "   param_grid = param_test2,iid=False, cv=5)  \n",
    "gsearch2.fit(X,y)  \n",
    "gsearch2.grid_scores_,gsearch2.best_params_, gsearch2.best_score_ "
   ]
  },
  {
   "cell_type": "code",
   "execution_count": 19,
   "metadata": {
    "collapsed": false
   },
   "outputs": [
    {
     "name": "stdout",
     "output_type": "stream",
     "text": [
      "[219500 173000 116500 ... 112000 234000 221000]\n",
      "[227933.24676404 169305.21782112 119472.44810495 ... 129086.99237854\n",
      " 214634.53953544 222343.06697974]\n",
      "score 0.9783966442992171\n",
      "oob_score_ 0.8526655552330467\n",
      "R^2 0.9783966442992171\n",
      "均方误差 131775203.07502675\n",
      "平均绝对误差 7407.719747616727\n"
     ]
    }
   ],
   "source": [
    "best_max_depth = gsearch2.best_params_[\"max_depth\"]\n",
    "best_min_samples_split = gsearch2.best_params_[\"min_samples_split\"]\n",
    "\n",
    "rf1= RandomForestRegressor(n_estimators= best_n_estimators, \n",
    "                            max_depth=best_max_depth, \n",
    "                            min_samples_split=best_min_samples_split,\n",
    "                            oob_score=True,random_state=10)  \n",
    "rf1.fit(X,y)  \n",
    "\n",
    "tempRf = rf1\n",
    "\n",
    "y_pred = tempRf.predict(X)\n",
    "\n",
    "print(y)\n",
    "print(y_pred)\n",
    "\n",
    "print('score',tempRf.score(X,y) )\n",
    "print('oob_score_',tempRf.oob_score_)\n",
    "\n",
    "print('R^2',metrics.r2_score(y,y_pred) )\n",
    "print('均方误差',metrics.mean_squared_error(y,y_pred) )\n",
    "print('平均绝对误差',metrics.mean_absolute_error(y,y_pred) )"
   ]
  },
  {
   "cell_type": "code",
   "execution_count": 20,
   "metadata": {
    "collapsed": false,
    "scrolled": true
   },
   "outputs": [
    {
     "data": {
      "text/plain": [
       "([mean: 0.84473, std: 0.03146, params: {'min_samples_leaf': 2, 'min_samples_split': 2},\n",
       "  mean: 0.84346, std: 0.03068, params: {'min_samples_leaf': 2, 'min_samples_split': 7},\n",
       "  mean: 0.84059, std: 0.02796, params: {'min_samples_leaf': 2, 'min_samples_split': 12},\n",
       "  mean: 0.83804, std: 0.02655, params: {'min_samples_leaf': 2, 'min_samples_split': 17},\n",
       "  mean: 0.83339, std: 0.02601, params: {'min_samples_leaf': 2, 'min_samples_split': 22},\n",
       "  mean: 0.82835, std: 0.02670, params: {'min_samples_leaf': 2, 'min_samples_split': 27},\n",
       "  mean: 0.82345, std: 0.02701, params: {'min_samples_leaf': 2, 'min_samples_split': 32},\n",
       "  mean: 0.81744, std: 0.02702, params: {'min_samples_leaf': 2, 'min_samples_split': 37},\n",
       "  mean: 0.84134, std: 0.02928, params: {'min_samples_leaf': 7, 'min_samples_split': 2},\n",
       "  mean: 0.84134, std: 0.02928, params: {'min_samples_leaf': 7, 'min_samples_split': 7},\n",
       "  mean: 0.84134, std: 0.02928, params: {'min_samples_leaf': 7, 'min_samples_split': 12},\n",
       "  mean: 0.83876, std: 0.02896, params: {'min_samples_leaf': 7, 'min_samples_split': 17},\n",
       "  mean: 0.83219, std: 0.02884, params: {'min_samples_leaf': 7, 'min_samples_split': 22},\n",
       "  mean: 0.82741, std: 0.02902, params: {'min_samples_leaf': 7, 'min_samples_split': 27},\n",
       "  mean: 0.82276, std: 0.02895, params: {'min_samples_leaf': 7, 'min_samples_split': 32},\n",
       "  mean: 0.81779, std: 0.02939, params: {'min_samples_leaf': 7, 'min_samples_split': 37},\n",
       "  mean: 0.82589, std: 0.03049, params: {'min_samples_leaf': 12, 'min_samples_split': 2},\n",
       "  mean: 0.82589, std: 0.03049, params: {'min_samples_leaf': 12, 'min_samples_split': 7},\n",
       "  mean: 0.82589, std: 0.03049, params: {'min_samples_leaf': 12, 'min_samples_split': 12},\n",
       "  mean: 0.82589, std: 0.03049, params: {'min_samples_leaf': 12, 'min_samples_split': 17},\n",
       "  mean: 0.82589, std: 0.03049, params: {'min_samples_leaf': 12, 'min_samples_split': 22},\n",
       "  mean: 0.82305, std: 0.03080, params: {'min_samples_leaf': 12, 'min_samples_split': 27},\n",
       "  mean: 0.81876, std: 0.03096, params: {'min_samples_leaf': 12, 'min_samples_split': 32},\n",
       "  mean: 0.81413, std: 0.03093, params: {'min_samples_leaf': 12, 'min_samples_split': 37},\n",
       "  mean: 0.80995, std: 0.03177, params: {'min_samples_leaf': 17, 'min_samples_split': 2},\n",
       "  mean: 0.80995, std: 0.03177, params: {'min_samples_leaf': 17, 'min_samples_split': 7},\n",
       "  mean: 0.80995, std: 0.03177, params: {'min_samples_leaf': 17, 'min_samples_split': 12},\n",
       "  mean: 0.80995, std: 0.03177, params: {'min_samples_leaf': 17, 'min_samples_split': 17},\n",
       "  mean: 0.80995, std: 0.03177, params: {'min_samples_leaf': 17, 'min_samples_split': 22},\n",
       "  mean: 0.80995, std: 0.03177, params: {'min_samples_leaf': 17, 'min_samples_split': 27},\n",
       "  mean: 0.80995, std: 0.03177, params: {'min_samples_leaf': 17, 'min_samples_split': 32},\n",
       "  mean: 0.80725, std: 0.03170, params: {'min_samples_leaf': 17, 'min_samples_split': 37},\n",
       "  mean: 0.79266, std: 0.03353, params: {'min_samples_leaf': 22, 'min_samples_split': 2},\n",
       "  mean: 0.79266, std: 0.03353, params: {'min_samples_leaf': 22, 'min_samples_split': 7},\n",
       "  mean: 0.79266, std: 0.03353, params: {'min_samples_leaf': 22, 'min_samples_split': 12},\n",
       "  mean: 0.79266, std: 0.03353, params: {'min_samples_leaf': 22, 'min_samples_split': 17},\n",
       "  mean: 0.79266, std: 0.03353, params: {'min_samples_leaf': 22, 'min_samples_split': 22},\n",
       "  mean: 0.79266, std: 0.03353, params: {'min_samples_leaf': 22, 'min_samples_split': 27},\n",
       "  mean: 0.79266, std: 0.03353, params: {'min_samples_leaf': 22, 'min_samples_split': 32},\n",
       "  mean: 0.79266, std: 0.03353, params: {'min_samples_leaf': 22, 'min_samples_split': 37},\n",
       "  mean: 0.77884, std: 0.03270, params: {'min_samples_leaf': 27, 'min_samples_split': 2},\n",
       "  mean: 0.77884, std: 0.03270, params: {'min_samples_leaf': 27, 'min_samples_split': 7},\n",
       "  mean: 0.77884, std: 0.03270, params: {'min_samples_leaf': 27, 'min_samples_split': 12},\n",
       "  mean: 0.77884, std: 0.03270, params: {'min_samples_leaf': 27, 'min_samples_split': 17},\n",
       "  mean: 0.77884, std: 0.03270, params: {'min_samples_leaf': 27, 'min_samples_split': 22},\n",
       "  mean: 0.77884, std: 0.03270, params: {'min_samples_leaf': 27, 'min_samples_split': 27},\n",
       "  mean: 0.77884, std: 0.03270, params: {'min_samples_leaf': 27, 'min_samples_split': 32},\n",
       "  mean: 0.77884, std: 0.03270, params: {'min_samples_leaf': 27, 'min_samples_split': 37},\n",
       "  mean: 0.76465, std: 0.03234, params: {'min_samples_leaf': 32, 'min_samples_split': 2},\n",
       "  mean: 0.76465, std: 0.03234, params: {'min_samples_leaf': 32, 'min_samples_split': 7},\n",
       "  mean: 0.76465, std: 0.03234, params: {'min_samples_leaf': 32, 'min_samples_split': 12},\n",
       "  mean: 0.76465, std: 0.03234, params: {'min_samples_leaf': 32, 'min_samples_split': 17},\n",
       "  mean: 0.76465, std: 0.03234, params: {'min_samples_leaf': 32, 'min_samples_split': 22},\n",
       "  mean: 0.76465, std: 0.03234, params: {'min_samples_leaf': 32, 'min_samples_split': 27},\n",
       "  mean: 0.76465, std: 0.03234, params: {'min_samples_leaf': 32, 'min_samples_split': 32},\n",
       "  mean: 0.76465, std: 0.03234, params: {'min_samples_leaf': 32, 'min_samples_split': 37},\n",
       "  mean: 0.75056, std: 0.03612, params: {'min_samples_leaf': 37, 'min_samples_split': 2},\n",
       "  mean: 0.75056, std: 0.03612, params: {'min_samples_leaf': 37, 'min_samples_split': 7},\n",
       "  mean: 0.75056, std: 0.03612, params: {'min_samples_leaf': 37, 'min_samples_split': 12},\n",
       "  mean: 0.75056, std: 0.03612, params: {'min_samples_leaf': 37, 'min_samples_split': 17},\n",
       "  mean: 0.75056, std: 0.03612, params: {'min_samples_leaf': 37, 'min_samples_split': 22},\n",
       "  mean: 0.75056, std: 0.03612, params: {'min_samples_leaf': 37, 'min_samples_split': 27},\n",
       "  mean: 0.75056, std: 0.03612, params: {'min_samples_leaf': 37, 'min_samples_split': 32},\n",
       "  mean: 0.75056, std: 0.03612, params: {'min_samples_leaf': 37, 'min_samples_split': 37}],\n",
       " {'min_samples_leaf': 2, 'min_samples_split': 2},\n",
       " 0.8447252476709949)"
      ]
     },
     "execution_count": 20,
     "metadata": {},
     "output_type": "execute_result"
    }
   ],
   "source": [
    "#再对内部节点再划分所需最小样本数min_samples_split和叶子节点最少样本数min_samples_leaf一起调参 \n",
    "param_test3= {'min_samples_split':list(range(2,40,5)), 'min_samples_leaf':list(range(2,40,5))}  \n",
    "gsearch3= GridSearchCV(estimator = RandomForestRegressor(n_estimators= best_n_estimators,\n",
    "                                                          max_depth=best_max_depth,oob_score=True, random_state=10),  \n",
    "   param_grid = param_test3,iid=False, cv=5)  \n",
    "gsearch3.fit(X,y)  \n",
    "gsearch3.grid_scores_,gsearch3.best_params_, gsearch3.best_score_ "
   ]
  },
  {
   "cell_type": "code",
   "execution_count": 22,
   "metadata": {
    "collapsed": false
   },
   "outputs": [
    {
     "data": {
      "text/plain": [
       "([mean: 0.84487, std: 0.03037, params: {'max_features': 3},\n",
       "  mean: 0.85251, std: 0.03145, params: {'max_features': 8},\n",
       "  mean: 0.85290, std: 0.02986, params: {'max_features': 13},\n",
       "  mean: 0.85000, std: 0.03328, params: {'max_features': 18}],\n",
       " {'max_features': 13},\n",
       " 0.8529013686148943)"
      ]
     },
     "execution_count": 22,
     "metadata": {},
     "output_type": "execute_result"
    }
   ],
   "source": [
    "best_min_samples_leaf = gsearch3.best_params_[\"min_samples_leaf\"]\n",
    "best_min_samples_split = gsearch3.best_params_[\"min_samples_split\"]\n",
    "\n",
    "#最后我们再对最大特征数max_features做调参:  \n",
    "param_test4= {'max_features':list(range(3,int(30*2/3),5))}  \n",
    "gsearch4= GridSearchCV(estimator = RandomForestRegressor(n_estimators= best_n_estimators,\n",
    "                                                          max_depth=best_max_depth, \n",
    "                                                          min_samples_split=best_min_samples_split,  \n",
    "                                                          min_samples_leaf=best_min_samples_leaf ,\n",
    "                                                          oob_score=True, random_state=10),  \n",
    "                                                       param_grid = param_test4,iid=False, cv=5)  \n",
    "gsearch4.fit(X,y)  \n",
    "gsearch4.grid_scores_,gsearch4.best_params_, gsearch4.best_score_ "
   ]
  },
  {
   "cell_type": "code",
   "execution_count": 23,
   "metadata": {
    "collapsed": false
   },
   "outputs": [
    {
     "name": "stdout",
     "output_type": "stream",
     "text": [
      "[219500 173000 116500 ... 112000 234000 221000]\n",
      "[226222.55209144 170327.4559155  116291.70690017 ... 132941.43299473\n",
      " 208240.59029915 218946.24777316]\n",
      "score 0.9644421320844245\n",
      "oob_score_ 0.851608319935069\n",
      "R^2 0.9644421320844245\n",
      "均方误差 216894325.60331926\n",
      "平均绝对误差 8369.419344438058\n"
     ]
    }
   ],
   "source": [
    "best_max_features = gsearch4.best_params_[\"max_features\"]\n",
    "\n",
    "#用我们搜索到的最佳参数，我们再看看最终的模型拟合：  \n",
    "rf2= RandomForestRegressor(n_estimators= best_n_estimators, \n",
    "                            max_depth=best_max_depth, \n",
    "                            min_samples_split=best_min_samples_split,  \n",
    "                            min_samples_leaf=best_min_samples_leaf,\n",
    "                            max_features=best_max_features ,\n",
    "                            oob_score=True, random_state=10)  \n",
    "rf2.fit(X,y) \n",
    "\n",
    "tempRf = rf2\n",
    "\n",
    "y_pred = tempRf.predict(X)\n",
    "\n",
    "print(y)\n",
    "print(y_pred)\n",
    "\n",
    "print('score',tempRf.score(X,y) )\n",
    "print('oob_score_',tempRf.oob_score_)\n",
    "\n",
    "print('R^2',metrics.r2_score(y,y_pred) )\n",
    "print('均方误差',metrics.mean_squared_error(y,y_pred) )\n",
    "print('平均绝对误差',metrics.mean_absolute_error(y,y_pred) )"
   ]
  },
  {
   "cell_type": "code",
   "execution_count": 24,
   "metadata": {
    "collapsed": false
   },
   "outputs": [
    {
     "name": "stdout",
     "output_type": "stream",
     "text": [
      "[219500 173000 116500 ... 112000 234000 221000]\n",
      "[233820. 174630. 115000. ... 123600. 218000. 215450.]\n",
      "score 0.9690102533011052\n",
      "oob_score_ 0.7365336848277699\n",
      "R^2 0.9690102533011052\n",
      "均方误差 189029899.8475734\n",
      "平均绝对误差 8120.4931506849325\n",
      "--------------------\n",
      "[219500 173000 116500 ... 112000 234000 221000]\n",
      "[227933.24676404 169305.21782112 119472.44810495 ... 129086.99237854\n",
      " 214634.53953544 222343.06697974]\n",
      "score 0.9783966442992171\n",
      "oob_score_ 0.8526655552330467\n",
      "R^2 0.9783966442992171\n",
      "均方误差 131775203.07502675\n",
      "平均绝对误差 7407.719747616727\n",
      "--------------------\n",
      "[219500 173000 116500 ... 112000 234000 221000]\n",
      "[226222.55209144 170327.4559155  116291.70690017 ... 132941.43299473\n",
      " 208240.59029915 218946.24777316]\n",
      "score 0.9644421320844245\n",
      "oob_score_ 0.851608319935069\n",
      "R^2 0.9644421320844245\n",
      "均方误差 216894325.60331926\n",
      "平均绝对误差 8369.419344438058\n",
      "--------------------\n"
     ]
    }
   ],
   "source": [
    "for rf in [rf0,rf1,rf2]:\n",
    "    tempRf = rf\n",
    "\n",
    "    y_pred = tempRf.predict(X)\n",
    "\n",
    "    print(y)\n",
    "    print(y_pred)\n",
    "\n",
    "    print('score',tempRf.score(X,y) )\n",
    "    print('oob_score_',tempRf.oob_score_)\n",
    "\n",
    "    print('R^2',metrics.r2_score(y,y_pred) )\n",
    "    print('均方误差',metrics.mean_squared_error(y,y_pred) )\n",
    "    print('平均绝对误差',metrics.mean_absolute_error(y,y_pred) )\n",
    "    \n",
    "    print('-'*20)"
   ]
  },
  {
   "cell_type": "code",
   "execution_count": 25,
   "metadata": {
    "collapsed": true
   },
   "outputs": [],
   "source": [
    "import copy\n",
    "rf_final = copy.copy(rf1)"
   ]
  },
  {
   "cell_type": "code",
   "execution_count": 26,
   "metadata": {
    "collapsed": false
   },
   "outputs": [
    {
     "name": "stdout",
     "output_type": "stream",
     "text": [
      "(1460, 30)\n"
     ]
    }
   ],
   "source": [
    "#train_all = data_train.values\n",
    "\n",
    "# y即Survival结果\n",
    "y_all = data_train[\"SalePrices\"].values\n",
    "\n",
    "# X即特征属性值\n",
    "X_all = data_train[columns].values\n",
    "\n",
    "print(X_all.shape)"
   ]
  },
  {
   "cell_type": "code",
   "execution_count": 27,
   "metadata": {
    "collapsed": false
   },
   "outputs": [
    {
     "name": "stdout",
     "output_type": "stream",
     "text": [
      "[208500 181500 223500 ... 266500 142125 147500]\n",
      "[202680.76314465 172171.73874487 219066.70653065 ... 262673.03420053\n",
      " 136550.77873967 148984.59936731]\n",
      "score 0.9784092360347605\n",
      "oob_score_ 0.8609679661486912\n",
      "R^2 0.9784092360347604\n",
      "均方误差 136168383.7249439\n",
      "平均绝对误差 7612.7490578264615\n",
      "RandomForestRegressor(bootstrap=True, criterion='mse', max_depth=11,\n",
      "           max_features='auto', max_leaf_nodes=None,\n",
      "           min_impurity_decrease=0.0, min_impurity_split=None,\n",
      "           min_samples_leaf=1, min_samples_split=2,\n",
      "           min_weight_fraction_leaf=0.0, n_estimators=200, n_jobs=1,\n",
      "           oob_score=True, random_state=10, verbose=0, warm_start=False)\n"
     ]
    }
   ],
   "source": [
    "rf_final.fit(X_all,y_all)  \n",
    "\n",
    "showModelAbility(rf_final,X_all,y_all)\n",
    "\n",
    "print (rf_final)"
   ]
  },
  {
   "cell_type": "code",
   "execution_count": 29,
   "metadata": {
    "collapsed": false
   },
   "outputs": [
    {
     "data": {
      "text/html": [
       "<div>\n",
       "<style scoped>\n",
       "    .dataframe tbody tr th:only-of-type {\n",
       "        vertical-align: middle;\n",
       "    }\n",
       "\n",
       "    .dataframe tbody tr th {\n",
       "        vertical-align: top;\n",
       "    }\n",
       "\n",
       "    .dataframe thead th {\n",
       "        text-align: right;\n",
       "    }\n",
       "</style>\n",
       "<table border=\"1\" class=\"dataframe\">\n",
       "  <thead>\n",
       "    <tr style=\"text-align: right;\">\n",
       "      <th></th>\n",
       "      <th>ColName</th>\n",
       "      <th>value</th>\n",
       "    </tr>\n",
       "  </thead>\n",
       "  <tbody>\n",
       "    <tr>\n",
       "      <th>0</th>\n",
       "      <td>OverallQual</td>\n",
       "      <td>0.598558</td>\n",
       "    </tr>\n",
       "    <tr>\n",
       "      <th>1</th>\n",
       "      <td>GrLivArea</td>\n",
       "      <td>0.112152</td>\n",
       "    </tr>\n",
       "    <tr>\n",
       "      <th>2</th>\n",
       "      <td>2ndFlrSF</td>\n",
       "      <td>0.041359</td>\n",
       "    </tr>\n",
       "    <tr>\n",
       "      <th>3</th>\n",
       "      <td>TotalBsmtSF</td>\n",
       "      <td>0.042177</td>\n",
       "    </tr>\n",
       "    <tr>\n",
       "      <th>4</th>\n",
       "      <td>BsmtFinSF1</td>\n",
       "      <td>0.029956</td>\n",
       "    </tr>\n",
       "  </tbody>\n",
       "</table>\n",
       "</div>"
      ],
      "text/plain": [
       "       ColName     value\n",
       "0  OverallQual  0.598558\n",
       "1    GrLivArea  0.112152\n",
       "2     2ndFlrSF  0.041359\n",
       "3  TotalBsmtSF  0.042177\n",
       "4   BsmtFinSF1  0.029956"
      ]
     },
     "execution_count": 29,
     "metadata": {},
     "output_type": "execute_result"
    }
   ],
   "source": [
    "names = columns\n",
    "\n",
    "results = pd.DataFrame({\"ColName\":names,\"value\":rf_final.feature_importances_})\n",
    "\n",
    "results.head()"
   ]
  },
  {
   "cell_type": "code",
   "execution_count": 30,
   "metadata": {
    "collapsed": false,
    "scrolled": true
   },
   "outputs": [
    {
     "data": {
      "text/html": [
       "<div>\n",
       "<style scoped>\n",
       "    .dataframe tbody tr th:only-of-type {\n",
       "        vertical-align: middle;\n",
       "    }\n",
       "\n",
       "    .dataframe tbody tr th {\n",
       "        vertical-align: top;\n",
       "    }\n",
       "\n",
       "    .dataframe thead th {\n",
       "        text-align: right;\n",
       "    }\n",
       "</style>\n",
       "<table border=\"1\" class=\"dataframe\">\n",
       "  <thead>\n",
       "    <tr style=\"text-align: right;\">\n",
       "      <th></th>\n",
       "      <th>ColName</th>\n",
       "      <th>value</th>\n",
       "    </tr>\n",
       "  </thead>\n",
       "  <tbody>\n",
       "    <tr>\n",
       "      <th>0</th>\n",
       "      <td>OverallQual</td>\n",
       "      <td>0.598558</td>\n",
       "    </tr>\n",
       "    <tr>\n",
       "      <th>1</th>\n",
       "      <td>GrLivArea</td>\n",
       "      <td>0.112152</td>\n",
       "    </tr>\n",
       "    <tr>\n",
       "      <th>3</th>\n",
       "      <td>TotalBsmtSF</td>\n",
       "      <td>0.042177</td>\n",
       "    </tr>\n",
       "    <tr>\n",
       "      <th>2</th>\n",
       "      <td>2ndFlrSF</td>\n",
       "      <td>0.041359</td>\n",
       "    </tr>\n",
       "    <tr>\n",
       "      <th>4</th>\n",
       "      <td>BsmtFinSF1</td>\n",
       "      <td>0.029956</td>\n",
       "    </tr>\n",
       "    <tr>\n",
       "      <th>5</th>\n",
       "      <td>1stFlrSF</td>\n",
       "      <td>0.024072</td>\n",
       "    </tr>\n",
       "    <tr>\n",
       "      <th>8</th>\n",
       "      <td>LotArea</td>\n",
       "      <td>0.017803</td>\n",
       "    </tr>\n",
       "    <tr>\n",
       "      <th>7</th>\n",
       "      <td>GarageArea</td>\n",
       "      <td>0.015391</td>\n",
       "    </tr>\n",
       "    <tr>\n",
       "      <th>6</th>\n",
       "      <td>GarageCars</td>\n",
       "      <td>0.015383</td>\n",
       "    </tr>\n",
       "    <tr>\n",
       "      <th>9</th>\n",
       "      <td>YearBuilt</td>\n",
       "      <td>0.012251</td>\n",
       "    </tr>\n",
       "    <tr>\n",
       "      <th>11</th>\n",
       "      <td>YearRemodAdd</td>\n",
       "      <td>0.008666</td>\n",
       "    </tr>\n",
       "    <tr>\n",
       "      <th>12</th>\n",
       "      <td>TotRmsAbvGrd</td>\n",
       "      <td>0.007184</td>\n",
       "    </tr>\n",
       "    <tr>\n",
       "      <th>10</th>\n",
       "      <td>FullBath</td>\n",
       "      <td>0.007020</td>\n",
       "    </tr>\n",
       "    <tr>\n",
       "      <th>17</th>\n",
       "      <td>OpenPorchSF</td>\n",
       "      <td>0.006319</td>\n",
       "    </tr>\n",
       "    <tr>\n",
       "      <th>16</th>\n",
       "      <td>BsmtUnfSF</td>\n",
       "      <td>0.006248</td>\n",
       "    </tr>\n",
       "    <tr>\n",
       "      <th>13</th>\n",
       "      <td>WoodDeckSF</td>\n",
       "      <td>0.006212</td>\n",
       "    </tr>\n",
       "    <tr>\n",
       "      <th>15</th>\n",
       "      <td>GarageYrBlt</td>\n",
       "      <td>0.005788</td>\n",
       "    </tr>\n",
       "    <tr>\n",
       "      <th>18</th>\n",
       "      <td>OverallCond</td>\n",
       "      <td>0.005667</td>\n",
       "    </tr>\n",
       "    <tr>\n",
       "      <th>14</th>\n",
       "      <td>MasVnrArea</td>\n",
       "      <td>0.005457</td>\n",
       "    </tr>\n",
       "    <tr>\n",
       "      <th>20</th>\n",
       "      <td>MoSold</td>\n",
       "      <td>0.004373</td>\n",
       "    </tr>\n",
       "    <tr>\n",
       "      <th>19</th>\n",
       "      <td>BsmtQual_Ex</td>\n",
       "      <td>0.004262</td>\n",
       "    </tr>\n",
       "    <tr>\n",
       "      <th>23</th>\n",
       "      <td>Fireplaces</td>\n",
       "      <td>0.003935</td>\n",
       "    </tr>\n",
       "    <tr>\n",
       "      <th>29</th>\n",
       "      <td>CentralAir_N</td>\n",
       "      <td>0.002892</td>\n",
       "    </tr>\n",
       "    <tr>\n",
       "      <th>21</th>\n",
       "      <td>GarageType_Detchd</td>\n",
       "      <td>0.002655</td>\n",
       "    </tr>\n",
       "    <tr>\n",
       "      <th>27</th>\n",
       "      <td>KitchenQual_Gd</td>\n",
       "      <td>0.002585</td>\n",
       "    </tr>\n",
       "    <tr>\n",
       "      <th>22</th>\n",
       "      <td>BsmtQual_Gd</td>\n",
       "      <td>0.002581</td>\n",
       "    </tr>\n",
       "    <tr>\n",
       "      <th>25</th>\n",
       "      <td>MSZoning_RM</td>\n",
       "      <td>0.002578</td>\n",
       "    </tr>\n",
       "    <tr>\n",
       "      <th>26</th>\n",
       "      <td>BedroomAbvGr</td>\n",
       "      <td>0.002354</td>\n",
       "    </tr>\n",
       "    <tr>\n",
       "      <th>28</th>\n",
       "      <td>YrSold</td>\n",
       "      <td>0.002082</td>\n",
       "    </tr>\n",
       "    <tr>\n",
       "      <th>24</th>\n",
       "      <td>GarageType_Attchd</td>\n",
       "      <td>0.002041</td>\n",
       "    </tr>\n",
       "  </tbody>\n",
       "</table>\n",
       "</div>"
      ],
      "text/plain": [
       "              ColName     value\n",
       "0         OverallQual  0.598558\n",
       "1           GrLivArea  0.112152\n",
       "3         TotalBsmtSF  0.042177\n",
       "2            2ndFlrSF  0.041359\n",
       "4          BsmtFinSF1  0.029956\n",
       "5            1stFlrSF  0.024072\n",
       "8             LotArea  0.017803\n",
       "7          GarageArea  0.015391\n",
       "6          GarageCars  0.015383\n",
       "9           YearBuilt  0.012251\n",
       "11       YearRemodAdd  0.008666\n",
       "12       TotRmsAbvGrd  0.007184\n",
       "10           FullBath  0.007020\n",
       "17        OpenPorchSF  0.006319\n",
       "16          BsmtUnfSF  0.006248\n",
       "13         WoodDeckSF  0.006212\n",
       "15        GarageYrBlt  0.005788\n",
       "18        OverallCond  0.005667\n",
       "14         MasVnrArea  0.005457\n",
       "20             MoSold  0.004373\n",
       "19        BsmtQual_Ex  0.004262\n",
       "23         Fireplaces  0.003935\n",
       "29       CentralAir_N  0.002892\n",
       "21  GarageType_Detchd  0.002655\n",
       "27     KitchenQual_Gd  0.002585\n",
       "22        BsmtQual_Gd  0.002581\n",
       "25        MSZoning_RM  0.002578\n",
       "26       BedroomAbvGr  0.002354\n",
       "28             YrSold  0.002082\n",
       "24  GarageType_Attchd  0.002041"
      ]
     },
     "execution_count": 30,
     "metadata": {},
     "output_type": "execute_result"
    }
   ],
   "source": [
    "results =results.sort_values(\"value\",ascending =False)\n",
    "results.head(30)"
   ]
  },
  {
   "cell_type": "code",
   "execution_count": 31,
   "metadata": {
    "collapsed": false
   },
   "outputs": [
    {
     "name": "stderr",
     "output_type": "stream",
     "text": [
      "D:\\Anaconda2\\envs\\python36\\lib\\site-packages\\sklearn\\learning_curve.py:22: DeprecationWarning: This module was deprecated in version 0.18 in favor of the model_selection module into which all the functions are moved. This module will be removed in 0.20\n",
      "  DeprecationWarning)\n"
     ]
    },
    {
     "data": {
      "image/png": "[encoded data removed]",
      "text/plain": [
       "<Figure size 432x288 with 1 Axes>"
      ]
     },
     "metadata": {},
     "output_type": "display_data"
    }
   ],
   "source": [
    "import numpy as np\n",
    "import seaborn as sns\n",
    "sns.set_style(\"whitegrid\")\n",
    "\n",
    "import matplotlib.pyplot as plt\n",
    "plt.rcParams['font.sans-serif']=['SimHei'] #用来正常显示中文标签\n",
    "plt.rcParams['axes.unicode_minus']=False #用来正常显示负号\n",
    "%matplotlib inline\n",
    "\n",
    "\n",
    "from sklearn.learning_curve import learning_curve\n",
    "\n",
    "\n",
    "# 用sklearn的learning_curve得到training_score和cv_score，使用matplotlib画出learning curve\n",
    "def plot_learning_curve(estimator, title, X, y, ylim=None, cv=None, n_jobs=1, \n",
    "                        train_sizes=np.linspace(.05, 1., 20), verbose=0, plot=True):\n",
    "    \"\"\"\n",
    "    画出data在某模型上的learning curve.\n",
    "    参数解释\n",
    "    ----------\n",
    "    estimator : 你用的分类器。\n",
    "    title : 表格的标题。\n",
    "    X : 输入的feature，numpy类型\n",
    "    y : 输入的target vector\n",
    "    ylim : tuple格式的(ymin, ymax), 设定图像中纵坐标的最低点和最高点\n",
    "    cv : 做cross-validation的时候，数据分成的份数，其中一份作为cv集，其余n-1份作为training(默认为3份)\n",
    "    n_jobs : 并行的的任务数(默认1)\n",
    "    \"\"\"\n",
    "    train_sizes, train_scores, test_scores = learning_curve(\n",
    "        estimator, X, y, cv=cv, n_jobs=n_jobs, train_sizes=train_sizes, verbose=verbose)\n",
    "\n",
    "    train_scores_mean = np.mean(train_scores, axis=1)\n",
    "    train_scores_std = np.std(train_scores, axis=1)\n",
    "    test_scores_mean = np.mean(test_scores, axis=1)\n",
    "    test_scores_std = np.std(test_scores, axis=1)\n",
    "\n",
    "    if True:\n",
    "        plt.figure()\n",
    "        plt.title(title)\n",
    "        if ylim is not None:\n",
    "            plt.ylim(*ylim)\n",
    "        plt.xlabel(u\"训练样本数\")\n",
    "        plt.ylabel(u\"得分\")\n",
    "        plt.gca().invert_yaxis()\n",
    "        plt.grid()\n",
    "\n",
    "        plt.fill_between(train_sizes, train_scores_mean - train_scores_std, train_scores_mean + train_scores_std, \n",
    "                         alpha=0.1, color=\"b\")\n",
    "        plt.fill_between(train_sizes, test_scores_mean - test_scores_std, test_scores_mean + test_scores_std, \n",
    "                         alpha=0.1, color=\"r\")\n",
    "        plt.plot(train_sizes, train_scores_mean, 'o-', color=\"b\", label=u\"训练集上得分\")\n",
    "        plt.plot(train_sizes, test_scores_mean, '*-', color=\"r\", label=u\"交叉验证集上得分\")\n",
    "\n",
    "        plt.legend(loc=\"best\")\n",
    "\n",
    "        plt.gca().invert_yaxis()\n",
    "        plt.draw()\n",
    "        plt.show()\n",
    "        \n",
    "\n",
    "    #midpoint = ((train_scores_mean[-1] + train_scores_std[-1]) + (test_scores_mean[-1] - test_scores_std[-1])) / 2\n",
    "    #diff = (train_scores_mean[-1] + train_scores_std[-1]) - (test_scores_mean[-1] - test_scores_std[-1])\n",
    "    #return midpoint, diff\n",
    "\n",
    "\n",
    "plot_learning_curve(rf_final, u\"学习曲线\", X_all, y_all,cv=5)"
   ]
  },
  {
   "cell_type": "code",
   "execution_count": null,
   "metadata": {
    "collapsed": true
   },
   "outputs": [],
   "source": [
    "#过拟合了"
   ]
  },
  {
   "cell_type": "code",
   "execution_count": null,
   "metadata": {
    "collapsed": true
   },
   "outputs": [],
   "source": []
  },
  {
   "cell_type": "code",
   "execution_count": 33,
   "metadata": {
    "collapsed": false,
    "scrolled": false
   },
   "outputs": [
    {
     "name": "stdout",
     "output_type": "stream",
     "text": [
      "0 OverallQual\n",
      "0 GrLivArea\n",
      "0 2ndFlrSF\n",
      "0 TotalBsmtSF\n",
      "0 BsmtFinSF1\n",
      "0 1stFlrSF\n",
      "0 GarageCars\n",
      "0 GarageArea\n",
      "0 LotArea\n",
      "0 YearBuilt\n",
      "0 FullBath\n",
      "0 YearRemodAdd\n",
      "0 TotRmsAbvGrd\n",
      "0 WoodDeckSF\n",
      "0 MasVnrArea\n",
      "0 GarageYrBlt\n",
      "0 BsmtUnfSF\n",
      "0 OpenPorchSF\n",
      "0 OverallCond\n",
      "0 BsmtQual_Ex\n",
      "0 MoSold\n",
      "0 GarageType_Detchd\n",
      "0 BsmtQual_Gd\n",
      "0 Fireplaces\n",
      "0 GarageType_Attchd\n",
      "0 MSZoning_RM\n",
      "0 BedroomAbvGr\n",
      "0 KitchenQual_Gd\n",
      "0 YrSold\n",
      "0 CentralAir_N\n"
     ]
    }
   ],
   "source": [
    "#空值检查\n",
    "for data,name in zip(data_test.isnull().sum(),names):\n",
    "    print(data,name)"
   ]
  },
  {
   "cell_type": "code",
   "execution_count": 34,
   "metadata": {
    "collapsed": false
   },
   "outputs": [
    {
     "name": "stdout",
     "output_type": "stream",
     "text": [
      "<class 'pandas.core.frame.DataFrame'>\n",
      "Int64Index: 1459 entries, 0 to 1458\n",
      "Columns: 259 entries, Id to SaleCondition_Partial\n",
      "dtypes: float64(10), int64(21), uint8(228)\n",
      "memory usage: 689.6 KB\n",
      "(1459, 30)\n"
     ]
    }
   ],
   "source": [
    "data_test.info()\n",
    "\n",
    "ids = data_test.values[:,0].astype(np.int32)\n",
    "\n",
    "X_test = data_test[columns].values\n",
    "\n",
    "print(X_test.shape)\n",
    "\n",
    "\n",
    "y_pred = rf_final.predict(X_test)\n",
    "\n"
   ]
  },
  {
   "cell_type": "code",
   "execution_count": 35,
   "metadata": {
    "collapsed": false
   },
   "outputs": [
    {
     "data": {
      "text/html": [
       "<div>\n",
       "<style scoped>\n",
       "    .dataframe tbody tr th:only-of-type {\n",
       "        vertical-align: middle;\n",
       "    }\n",
       "\n",
       "    .dataframe tbody tr th {\n",
       "        vertical-align: top;\n",
       "    }\n",
       "\n",
       "    .dataframe thead th {\n",
       "        text-align: right;\n",
       "    }\n",
       "</style>\n",
       "<table border=\"1\" class=\"dataframe\">\n",
       "  <thead>\n",
       "    <tr style=\"text-align: right;\">\n",
       "      <th></th>\n",
       "      <th>Id</th>\n",
       "      <th>SalePrice</th>\n",
       "    </tr>\n",
       "  </thead>\n",
       "  <tbody>\n",
       "    <tr>\n",
       "      <th>0</th>\n",
       "      <td>1461</td>\n",
       "      <td>127587.148213</td>\n",
       "    </tr>\n",
       "    <tr>\n",
       "      <th>1</th>\n",
       "      <td>1462</td>\n",
       "      <td>156198.358378</td>\n",
       "    </tr>\n",
       "    <tr>\n",
       "      <th>2</th>\n",
       "      <td>1463</td>\n",
       "      <td>177877.611912</td>\n",
       "    </tr>\n",
       "    <tr>\n",
       "      <th>3</th>\n",
       "      <td>1464</td>\n",
       "      <td>181291.165197</td>\n",
       "    </tr>\n",
       "    <tr>\n",
       "      <th>4</th>\n",
       "      <td>1465</td>\n",
       "      <td>198996.570434</td>\n",
       "    </tr>\n",
       "  </tbody>\n",
       "</table>\n",
       "</div>"
      ],
      "text/plain": [
       "     Id      SalePrice\n",
       "0  1461  127587.148213\n",
       "1  1462  156198.358378\n",
       "2  1463  177877.611912\n",
       "3  1464  181291.165197\n",
       "4  1465  198996.570434"
      ]
     },
     "execution_count": 35,
     "metadata": {},
     "output_type": "execute_result"
    }
   ],
   "source": [
    "resluts = pd.DataFrame({\"Id\":ids,\"SalePrice\":y_pred})\n",
    "\n",
    "resluts.head()"
   ]
  },
  {
   "cell_type": "code",
   "execution_count": 36,
   "metadata": {
    "collapsed": false
   },
   "outputs": [
    {
     "name": "stdout",
     "output_type": "stream",
     "text": [
      "<class 'pandas.core.frame.DataFrame'>\n",
      "RangeIndex: 1459 entries, 0 to 1458\n",
      "Data columns (total 2 columns):\n",
      "Id           1459 non-null int32\n",
      "SalePrice    1459 non-null float64\n",
      "dtypes: float64(1), int32(1)\n",
      "memory usage: 17.2 KB\n",
      "None\n"
     ]
    }
   ],
   "source": [
    "print(resluts.info())"
   ]
  },
  {
   "cell_type": "code",
   "execution_count": 37,
   "metadata": {
    "collapsed": false
   },
   "outputs": [],
   "source": [
    "resluts.to_csv('Result_V2_V1.csv', index=False)"
   ]
  },
  {
   "cell_type": "code",
   "execution_count": 38,
   "metadata": {
    "collapsed": true
   },
   "outputs": [],
   "source": [
    "import pickle\n",
    "\n",
    "\n",
    "pickle.dump(rf_final,open(\"./calc_V2.ggy\",\"wb\"))"
   ]
  },
  {
   "cell_type": "code",
   "execution_count": null,
   "metadata": {
    "collapsed": true
   },
   "outputs": [],
   "source": []
  },
  {
   "cell_type": "code",
   "execution_count": null,
   "metadata": {
    "collapsed": true
   },
   "outputs": [],
   "source": []
  },
  {
   "cell_type": "code",
   "execution_count": null,
   "metadata": {
    "collapsed": true
   },
   "outputs": [],
   "source": []
  }
 ],
 "metadata": {
  "kernelspec": {
   "display_name": "Python [python36]",
   "language": "python",
   "name": "Python [python36]"
  },
  "language_info": {
   "codemirror_mode": {
    "name": "ipython",
    "version": 3
   },
   "file_extension": ".py",
   "mimetype": "text/x-python",
   "name": "python",
   "nbconvert_exporter": "python",
   "pygments_lexer": "ipython3",
   "version": "3.6.4"
  }
 },
 "nbformat": 4,
 "nbformat_minor": 0
}
